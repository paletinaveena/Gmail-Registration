{
 "cells": [
  {
   "cell_type": "markdown",
   "metadata": {},
   "source": [
    "\n",
    "# <center>G-Mail Registration Project</center>\n",
    "\n",
    "<img src = \"https://www.google.com/logos/doodles/2020/stay-and-play-at-home-with-popular-past-google-doodles-cricket-2017-6753651837108767-2xa.gif\">"
   ]
  },
  {
   "cell_type": "markdown",
   "metadata": {},
   "source": [
    "### Things to focus on :\n",
    "\n",
    "1. uniqueness of gmail id\n",
    "2. security of passwords\n",
    "3. otp management\n",
    "4. storing data\n",
    "<img src = \"https://i1.wp.com/www.scorershub.com/wp-content/uploads/2019/06/create-Gmail-accountb-compressor.png?w=910&ssl=1\">"
   ]
  },
  {
   "cell_type": "code",
   "execution_count": 1,
   "metadata": {},
   "outputs": [],
   "source": [
    "username = ['Sowmya144'  ,'Surekha555','Suresh764','Koushika' ,'Krish24', 'Sumita82', 'Nikitha', 'Satyam']\n",
    "password = ['Passcode1','Gmailpass2' ,'Pvsuresh1' ,'Codemail3' ,'Apassis4', 'passMail5', 'Nobitha6', 'codepass7']\n",
    "phone_no = ['1234567890' ,'9876543210' ,'3456789876' ,'2345678987' ,'9876543212' ,'6263332517' ,'1234567890' ,'9876543210']\n",
    "gender   = ['Female' ,'Female' ,'Male' ,'Female' ,'Male' ,'Female' ,'Female' ,'Male']\n",
    "fname    = ['Sowmya'  ,'Surekha' ,'Suresh' ,'Koushika' ,'Krishna' , 'Sumita' , 'Nikitha' , 'Satyam']\n",
    "lname    = ['Sri' ,'Shukla' ,'Paleti' ,'Retu' ,'Sai' ,'Sri' ,'Sai' ,'Kumar']\n",
    "dob      = ['27-Jul-2003', '12-Dec-1975','23-Dec-1970' ,'13-May-2001' ,'23-Jun-1997' ,'20-Apr-1997' ,'23-May-1987' ,'10-Mar-1996']"
   ]
  },
  {
   "cell_type": "code",
   "execution_count": 2,
   "metadata": {},
   "outputs": [],
   "source": [
    "existed_data = {'username':username, 'password' : password, 'phone_no' : phone_no , 'gender' : gender , 'fname' : fname,\n",
    "               'lname' : lname, 'dob' :dob}"
   ]
  },
  {
   "cell_type": "code",
   "execution_count": 3,
   "metadata": {},
   "outputs": [],
   "source": [
    "import pandas as pd \n",
    "df = pd.DataFrame(existed_data)"
   ]
  },
  {
   "cell_type": "code",
   "execution_count": 4,
   "metadata": {},
   "outputs": [
    {
     "data": {
      "text/html": [
       "<div>\n",
       "<style scoped>\n",
       "    .dataframe tbody tr th:only-of-type {\n",
       "        vertical-align: middle;\n",
       "    }\n",
       "\n",
       "    .dataframe tbody tr th {\n",
       "        vertical-align: top;\n",
       "    }\n",
       "\n",
       "    .dataframe thead th {\n",
       "        text-align: right;\n",
       "    }\n",
       "</style>\n",
       "<table border=\"1\" class=\"dataframe\">\n",
       "  <thead>\n",
       "    <tr style=\"text-align: right;\">\n",
       "      <th></th>\n",
       "      <th>username</th>\n",
       "      <th>password</th>\n",
       "      <th>phone_no</th>\n",
       "      <th>gender</th>\n",
       "      <th>fname</th>\n",
       "      <th>lname</th>\n",
       "      <th>dob</th>\n",
       "    </tr>\n",
       "  </thead>\n",
       "  <tbody>\n",
       "    <tr>\n",
       "      <th>0</th>\n",
       "      <td>Sowmya144</td>\n",
       "      <td>passcode</td>\n",
       "      <td>1234567890</td>\n",
       "      <td>Female</td>\n",
       "      <td>Sowmya</td>\n",
       "      <td>Sri</td>\n",
       "      <td>27-Jul-2003</td>\n",
       "    </tr>\n",
       "    <tr>\n",
       "      <th>1</th>\n",
       "      <td>Surekha555</td>\n",
       "      <td>gmailpass</td>\n",
       "      <td>9876543210</td>\n",
       "      <td>Female</td>\n",
       "      <td>Surekha</td>\n",
       "      <td>Shukla</td>\n",
       "      <td>12-Dec-1975</td>\n",
       "    </tr>\n",
       "    <tr>\n",
       "      <th>2</th>\n",
       "      <td>Suresh764</td>\n",
       "      <td>pvsuresh1</td>\n",
       "      <td>3456789876</td>\n",
       "      <td>Male</td>\n",
       "      <td>Suresh</td>\n",
       "      <td>Paleti</td>\n",
       "      <td>23-Dec-1970</td>\n",
       "    </tr>\n",
       "    <tr>\n",
       "      <th>3</th>\n",
       "      <td>Koushika</td>\n",
       "      <td>codemail</td>\n",
       "      <td>2345678987</td>\n",
       "      <td>Female</td>\n",
       "      <td>Koushika</td>\n",
       "      <td>Retu</td>\n",
       "      <td>13-May-2001</td>\n",
       "    </tr>\n",
       "    <tr>\n",
       "      <th>4</th>\n",
       "      <td>Krish24</td>\n",
       "      <td>Apassis</td>\n",
       "      <td>9876543212</td>\n",
       "      <td>Male</td>\n",
       "      <td>Krishna</td>\n",
       "      <td>Sai</td>\n",
       "      <td>23-Jun-1997</td>\n",
       "    </tr>\n",
       "    <tr>\n",
       "      <th>5</th>\n",
       "      <td>Sumita82</td>\n",
       "      <td>passmail</td>\n",
       "      <td>6263332517</td>\n",
       "      <td>Female</td>\n",
       "      <td>Sumita</td>\n",
       "      <td>Sri</td>\n",
       "      <td>20-Apr-1997</td>\n",
       "    </tr>\n",
       "    <tr>\n",
       "      <th>6</th>\n",
       "      <td>Nikitha</td>\n",
       "      <td>Nobitha</td>\n",
       "      <td>1234567890</td>\n",
       "      <td>Female</td>\n",
       "      <td>Nikitha</td>\n",
       "      <td>Sai</td>\n",
       "      <td>23-May-1987</td>\n",
       "    </tr>\n",
       "    <tr>\n",
       "      <th>7</th>\n",
       "      <td>Satyam</td>\n",
       "      <td>codepass</td>\n",
       "      <td>9876543210</td>\n",
       "      <td>Male</td>\n",
       "      <td>Satyam</td>\n",
       "      <td>Kumar</td>\n",
       "      <td>10-Mar-1996</td>\n",
       "    </tr>\n",
       "  </tbody>\n",
       "</table>\n",
       "</div>"
      ],
      "text/plain": [
       "     username   password    phone_no  gender     fname   lname          dob\n",
       "0   Sowmya144   passcode  1234567890  Female    Sowmya     Sri  27-Jul-2003\n",
       "1  Surekha555  gmailpass  9876543210  Female   Surekha  Shukla  12-Dec-1975\n",
       "2   Suresh764  pvsuresh1  3456789876    Male    Suresh  Paleti  23-Dec-1970\n",
       "3    Koushika   codemail  2345678987  Female  Koushika    Retu  13-May-2001\n",
       "4     Krish24    Apassis  9876543212    Male   Krishna     Sai  23-Jun-1997\n",
       "5    Sumita82   passmail  6263332517  Female    Sumita     Sri  20-Apr-1997\n",
       "6     Nikitha    Nobitha  1234567890  Female   Nikitha     Sai  23-May-1987\n",
       "7      Satyam   codepass  9876543210    Male    Satyam   Kumar  10-Mar-1996"
      ]
     },
     "execution_count": 4,
     "metadata": {},
     "output_type": "execute_result"
    }
   ],
   "source": [
    "df # presentation of data"
   ]
  },
  {
   "cell_type": "code",
   "execution_count": 5,
   "metadata": {},
   "outputs": [
    {
     "data": {
      "text/plain": [
       "<AxesSubplot:xlabel='gender', ylabel='count'>"
      ]
     },
     "execution_count": 5,
     "metadata": {},
     "output_type": "execute_result"
    },
    {
     "data": {
      "image/png": "[encoded data removed]",
      "text/plain": [
       "<Figure size 432x288 with 1 Axes>"
      ]
     },
     "metadata": {
      "needs_background": "light"
     },
     "output_type": "display_data"
    }
   ],
   "source": [
    "import seaborn as sns \n",
    "sns.countplot(x = 'gender', data = df)  # Statistics of gender"
   ]
  },
  {
   "cell_type": "markdown",
   "metadata": {},
   "source": [
    "#### Function for taking first name and lname"
   ]
  },
  {
   "cell_type": "code",
   "execution_count": 6,
   "metadata": {},
   "outputs": [],
   "source": [
    "def checkName(name):\n",
    "    if name.isalpha() and name != '':\n",
    "        return True\n",
    "    return False"
   ]
  },
  {
   "cell_type": "code",
   "execution_count": 7,
   "metadata": {},
   "outputs": [],
   "source": [
    "firstname = [] ; lastname = []\n",
    "def flname():\n",
    "    first_name = input('Enter First Name : ')\n",
    "    if checkName(first_name):\n",
    "        last_name = input('Enter Last Name :')\n",
    "        if checkName(last_name) != True:\n",
    "            print(\"Invalid Last Name Input\")\n",
    "            return\n",
    "        firstname.append(first_name)\n",
    "        lastname.append(last_name)\n",
    "    else:\n",
    "        print(\"Invalid First Name Input\")"
   ]
  },
  {
   "cell_type": "markdown",
   "metadata": {},
   "source": [
    "#### Function for taking usernames and passwords"
   ]
  },
  {
   "cell_type": "code",
   "execution_count": 8,
   "metadata": {},
   "outputs": [],
   "source": [
    "def checkUserName(raw_user_name):\n",
    "    if raw_user_name in username:\n",
    "        return False\n",
    "    return True"
   ]
  },
  {
   "cell_type": "code",
   "execution_count": 9,
   "metadata": {},
   "outputs": [],
   "source": [
    "def checkpassword(password):\n",
    "    if len(password) < 8:\n",
    "        return False\n",
    "    if password.isalnum() != True:\n",
    "        return False\n",
    "    return True"
   ]
  },
  {
   "cell_type": "code",
   "execution_count": 10,
   "metadata": {},
   "outputs": [],
   "source": [
    "newusername = [] ; password = []\n",
    "def username_password():\n",
    "    raw_user_name = input(\"Enter Username ['xyz@gmail.com'] : \").split('@gmail.com')\n",
    "    if checkUserName(raw_user_name[0]):\n",
    "        Password = input('Enter Password: ')\n",
    "        if checkpassword(Password):\n",
    "            newusername.append(raw_user_name[0])\n",
    "            password.append(Password)\n",
    "        else:\n",
    "            print(\"Password must contain 8 characters, uppercases, lowercases and atleast 1 number\")\n",
    "    else:\n",
    "        print('username already exists.')"
   ]
  },
  {
   "cell_type": "markdown",
   "metadata": {},
   "source": [
    "#### Function to take dob, gender, phonenumber."
   ]
  },
  {
   "cell_type": "code",
   "execution_count": 11,
   "metadata": {},
   "outputs": [],
   "source": [
    "from datetime import date\n",
    "def checkYear(year):\n",
    "    today = date.today()\n",
    "    if year > today.year:\n",
    "        return False\n",
    "    return True"
   ]
  },
  {
   "cell_type": "code",
   "execution_count": 12,
   "metadata": {},
   "outputs": [],
   "source": [
    "def checkMonth(month):\n",
    "    m = ['Jan','Feb','Mar','Apr','May','Jun','Jul','Aug','Sep','Oct','Nov','Dec']\n",
    "    if month in m:\n",
    "        return True\n",
    "    return False"
   ]
  },
  {
   "cell_type": "code",
   "execution_count": 13,
   "metadata": {},
   "outputs": [],
   "source": [
    "import calendar\n",
    "def checkDay(day, month, year):\n",
    "    num_days = calendar.monthrange(year, month)[1]\n",
    "    if day > num_days:\n",
    "        return False\n",
    "    return True"
   ]
  },
  {
   "cell_type": "code",
   "execution_count": 14,
   "metadata": {},
   "outputs": [],
   "source": [
    "from datetime import date\n",
    "def checkAge(birthDate):\n",
    "    today = date.today()\n",
    "    age = today.year - birthDate.year - ((today.month, today.day) < (birthDate.month, birthDate.day))\n",
    "    if age >= 13:\n",
    "        return True\n",
    "    else:\n",
    "        return False"
   ]
  },
  {
   "cell_type": "code",
   "execution_count": 15,
   "metadata": {},
   "outputs": [],
   "source": [
    "import datetime\n",
    "Date = [] \n",
    "def dob():\n",
    "    year = int(input('Enter Birth year [1987, 1956, 2013,...] :'))\n",
    "    if checkYear(year):\n",
    "        month = input('Enter Birth Month [Jan, Feb, Mar, ...] :').capitalize()\n",
    "        if checkMonth(month):\n",
    "            day = int(input('Enter Birth Date [12, 23, 44...] :'))\n",
    "            datetime_object = datetime.datetime.strptime(month, \"%b\") # converts month into month number\n",
    "            month_num = datetime_object.month\n",
    "            if checkDay(day, month_num, year):\n",
    "                birthDate = date(year, month_num, day)\n",
    "                if checkAge(birthDate):\n",
    "                    DOB = str(day) + '-' + str(month) + '-' + str(year)\n",
    "                    Date.append(DOB)\n",
    "                else:\n",
    "                    print(\"You must be atleast 13 years\")\n",
    "            else:\n",
    "                print(\"Invalid Day Input\")\n",
    "        else:\n",
    "            print(\"Invalid Month Input\")\n",
    "    else:\n",
    "        print(\"Invalid Year Input\")"
   ]
  },
  {
   "cell_type": "code",
   "execution_count": 16,
   "metadata": {},
   "outputs": [],
   "source": [
    "Gender = []\n",
    "def gender():\n",
    "    print('Enter Gender : [\"Male, Female\"] : ')\n",
    "    gen_int = input('Enter Gender : ').capitalize()\n",
    "    if gen_int == 'Male' or 'Female':\n",
    "        Gender.append(gen_int)\n",
    "    else:\n",
    "        print('Invalid Input')"
   ]
  },
  {
   "cell_type": "code",
   "execution_count": 17,
   "metadata": {},
   "outputs": [],
   "source": [
    "def checkLength(MOB):\n",
    "    if len(MOB) != 10:\n",
    "        return False\n",
    "    return True"
   ]
  },
  {
   "cell_type": "code",
   "execution_count": 18,
   "metadata": {},
   "outputs": [],
   "source": [
    "import random\n",
    "def generateOTP():\n",
    "    return random.randint(627463,736453)"
   ]
  },
  {
   "cell_type": "code",
   "execution_count": 19,
   "metadata": {},
   "outputs": [],
   "source": [
    "def checkOTP(OTP_Generated):\n",
    "    otp_enter = int(input('Enter OTP : G-'))\n",
    "    if otp_enter == OTP_Generated:\n",
    "        return True\n",
    "    return False"
   ]
  },
  {
   "cell_type": "code",
   "execution_count": 20,
   "metadata": {},
   "outputs": [],
   "source": [
    "def TandC():\n",
    "    print('Please accept the Terms & Conditions to create your account.')\n",
    "    answer = input('Accept the T&Cs Enter 1 : ')\n",
    "    if answer != '1':\n",
    "        return False\n",
    "    return True"
   ]
  },
  {
   "cell_type": "code",
   "execution_count": 21,
   "metadata": {},
   "outputs": [],
   "source": [
    "phone_num = []\n",
    "def mobile():\n",
    "    MOB = input('Enter 10 Digit Mobile Number : ')\n",
    "    if MOB not in phone_no:\n",
    "        if MOB not in phone_num:\n",
    "            if checkLength(MOB):\n",
    "                OTP_Generated = generateOTP()\n",
    "                code = 'G-'+ str(OTP_Generated) + ' is your One Time Google Verification Code.'\n",
    "                print('Enter the OTP sent to your mobile number ending with ', MOB[-3:])\n",
    "                print(code)\n",
    "                if checkOTP(OTP_Generated):\n",
    "                    if TandC():\n",
    "                        phone_num.append(MOB)\n",
    "                        print('Account Created Succesfully.')\n",
    "                    else:\n",
    "                        print('Invalid Response')\n",
    "                else:\n",
    "                    print('Invalid OTP.')\n",
    "            else:\n",
    "                print(\"Invalid Input\")\n",
    "        else:\n",
    "            print('Number already exists.')\n",
    "    else:\n",
    "        print(\"Another Account with this number exists\")"
   ]
  },
  {
   "cell_type": "code",
   "execution_count": 22,
   "metadata": {},
   "outputs": [
    {
     "name": "stdout",
     "output_type": "stream",
     "text": [
      "Enter First Name : Hemanth\n",
      "Enter Last Name :Sri\n"
     ]
    }
   ],
   "source": [
    "flname()"
   ]
  },
  {
   "cell_type": "code",
   "execution_count": 23,
   "metadata": {},
   "outputs": [
    {
     "name": "stdout",
     "output_type": "stream",
     "text": [
      "Enter Birth year [1987, 1956, 2013,...] :2003\n",
      "Enter Birth Month [Jan, Feb, Mar, ...] :Mar\n",
      "Enter Birth Date [12, 23, 44...] :13\n"
     ]
    }
   ],
   "source": [
    "dob()"
   ]
  },
  {
   "cell_type": "code",
   "execution_count": 24,
   "metadata": {},
   "outputs": [
    {
     "name": "stdout",
     "output_type": "stream",
     "text": [
      "Enter Username ['xyz@gmail.com'] : hemanth\n",
      "Enter Password: Hem123h45\n"
     ]
    }
   ],
   "source": [
    "username_password()"
   ]
  },
  {
   "cell_type": "code",
   "execution_count": 25,
   "metadata": {},
   "outputs": [
    {
     "name": "stdout",
     "output_type": "stream",
     "text": [
      "Enter Gender : [\"Male, Female\"] : \n",
      "Enter Gender : Male\n"
     ]
    }
   ],
   "source": [
    "gender()"
   ]
  },
  {
   "cell_type": "code",
   "execution_count": 26,
   "metadata": {
    "scrolled": true
   },
   "outputs": [
    {
     "name": "stdout",
     "output_type": "stream",
     "text": [
      "Enter 10 Digit Mobile Number : 9392594527\n",
      "Enter the OTP sent to your mobile number ending with  527\n",
      "G-669900 is your One Time Google Verification Code.\n",
      "Enter OTP : G-669900\n",
      "Please accept the Terms & Conditions to create your account.\n",
      "Accept the T&Cs Enter 1 : 1\n",
      "Account Created Succesfully.\n"
     ]
    }
   ],
   "source": [
    "mobile()"
   ]
  },
  {
   "cell_type": "code",
   "execution_count": 27,
   "metadata": {},
   "outputs": [
    {
     "data": {
      "text/plain": [
       "(['Hemanth'],\n",
       " ['Sri'],\n",
       " ['13-Mar-2003'],\n",
       " ['9392594527'],\n",
       " ['Male'],\n",
       " ['hemanth'],\n",
       " ['Hem123h45'])"
      ]
     },
     "execution_count": 27,
     "metadata": {},
     "output_type": "execute_result"
    }
   ],
   "source": [
    "firstname, lastname, Date, phone_num, Gender , newusername, password"
   ]
  },
  {
   "cell_type": "code",
   "execution_count": 28,
   "metadata": {},
   "outputs": [],
   "source": [
    "data2 = {'username':newusername, 'password' : password, 'phone_no' : phone_num , 'gender' : Gender , 'fname' : firstname,\n",
    "               'lname' : lastname, 'dob' :Date}"
   ]
  },
  {
   "cell_type": "code",
   "execution_count": 29,
   "metadata": {},
   "outputs": [],
   "source": [
    "df2 = pd.DataFrame(data2)"
   ]
  },
  {
   "cell_type": "code",
   "execution_count": 30,
   "metadata": {},
   "outputs": [
    {
     "data": {
      "text/html": [
       "<div>\n",
       "<style scoped>\n",
       "    .dataframe tbody tr th:only-of-type {\n",
       "        vertical-align: middle;\n",
       "    }\n",
       "\n",
       "    .dataframe tbody tr th {\n",
       "        vertical-align: top;\n",
       "    }\n",
       "\n",
       "    .dataframe thead th {\n",
       "        text-align: right;\n",
       "    }\n",
       "</style>\n",
       "<table border=\"1\" class=\"dataframe\">\n",
       "  <thead>\n",
       "    <tr style=\"text-align: right;\">\n",
       "      <th></th>\n",
       "      <th>username</th>\n",
       "      <th>password</th>\n",
       "      <th>phone_no</th>\n",
       "      <th>gender</th>\n",
       "      <th>fname</th>\n",
       "      <th>lname</th>\n",
       "      <th>dob</th>\n",
       "    </tr>\n",
       "  </thead>\n",
       "  <tbody>\n",
       "    <tr>\n",
       "      <th>0</th>\n",
       "      <td>hemanth</td>\n",
       "      <td>Hem123h45</td>\n",
       "      <td>9392594527</td>\n",
       "      <td>Male</td>\n",
       "      <td>Hemanth</td>\n",
       "      <td>Sri</td>\n",
       "      <td>13-Mar-2003</td>\n",
       "    </tr>\n",
       "  </tbody>\n",
       "</table>\n",
       "</div>"
      ],
      "text/plain": [
       "  username   password    phone_no gender    fname lname          dob\n",
       "0  hemanth  Hem123h45  9392594527   Male  Hemanth   Sri  13-Mar-2003"
      ]
     },
     "execution_count": 30,
     "metadata": {},
     "output_type": "execute_result"
    }
   ],
   "source": [
    "df2"
   ]
  },
  {
   "cell_type": "code",
   "execution_count": 31,
   "metadata": {},
   "outputs": [],
   "source": [
    "final_data = pd.concat([df,df2])"
   ]
  },
  {
   "cell_type": "code",
   "execution_count": 32,
   "metadata": {},
   "outputs": [
    {
     "data": {
      "text/html": [
       "<div>\n",
       "<style scoped>\n",
       "    .dataframe tbody tr th:only-of-type {\n",
       "        vertical-align: middle;\n",
       "    }\n",
       "\n",
       "    .dataframe tbody tr th {\n",
       "        vertical-align: top;\n",
       "    }\n",
       "\n",
       "    .dataframe thead th {\n",
       "        text-align: right;\n",
       "    }\n",
       "</style>\n",
       "<table border=\"1\" class=\"dataframe\">\n",
       "  <thead>\n",
       "    <tr style=\"text-align: right;\">\n",
       "      <th></th>\n",
       "      <th>username</th>\n",
       "      <th>password</th>\n",
       "      <th>phone_no</th>\n",
       "      <th>gender</th>\n",
       "      <th>fname</th>\n",
       "      <th>lname</th>\n",
       "      <th>dob</th>\n",
       "    </tr>\n",
       "  </thead>\n",
       "  <tbody>\n",
       "    <tr>\n",
       "      <th>0</th>\n",
       "      <td>Sowmya144</td>\n",
       "      <td>passcode</td>\n",
       "      <td>1234567890</td>\n",
       "      <td>Female</td>\n",
       "      <td>Sowmya</td>\n",
       "      <td>Sri</td>\n",
       "      <td>27-Jul-2003</td>\n",
       "    </tr>\n",
       "    <tr>\n",
       "      <th>1</th>\n",
       "      <td>Surekha555</td>\n",
       "      <td>gmailpass</td>\n",
       "      <td>9876543210</td>\n",
       "      <td>Female</td>\n",
       "      <td>Surekha</td>\n",
       "      <td>Shukla</td>\n",
       "      <td>12-Dec-1975</td>\n",
       "    </tr>\n",
       "    <tr>\n",
       "      <th>2</th>\n",
       "      <td>Suresh764</td>\n",
       "      <td>pvsuresh1</td>\n",
       "      <td>3456789876</td>\n",
       "      <td>Male</td>\n",
       "      <td>Suresh</td>\n",
       "      <td>Paleti</td>\n",
       "      <td>23-Dec-1970</td>\n",
       "    </tr>\n",
       "    <tr>\n",
       "      <th>3</th>\n",
       "      <td>Koushika</td>\n",
       "      <td>codemail</td>\n",
       "      <td>2345678987</td>\n",
       "      <td>Female</td>\n",
       "      <td>Koushika</td>\n",
       "      <td>Retu</td>\n",
       "      <td>13-May-2001</td>\n",
       "    </tr>\n",
       "    <tr>\n",
       "      <th>4</th>\n",
       "      <td>Krish24</td>\n",
       "      <td>Apassis</td>\n",
       "      <td>9876543212</td>\n",
       "      <td>Male</td>\n",
       "      <td>Krishna</td>\n",
       "      <td>Sai</td>\n",
       "      <td>23-Jun-1997</td>\n",
       "    </tr>\n",
       "    <tr>\n",
       "      <th>5</th>\n",
       "      <td>Sumita82</td>\n",
       "      <td>passmail</td>\n",
       "      <td>6263332517</td>\n",
       "      <td>Female</td>\n",
       "      <td>Sumita</td>\n",
       "      <td>Sri</td>\n",
       "      <td>20-Apr-1997</td>\n",
       "    </tr>\n",
       "    <tr>\n",
       "      <th>6</th>\n",
       "      <td>Nikitha</td>\n",
       "      <td>Nobitha</td>\n",
       "      <td>1234567890</td>\n",
       "      <td>Female</td>\n",
       "      <td>Nikitha</td>\n",
       "      <td>Sai</td>\n",
       "      <td>23-May-1987</td>\n",
       "    </tr>\n",
       "    <tr>\n",
       "      <th>7</th>\n",
       "      <td>Satyam</td>\n",
       "      <td>codepass</td>\n",
       "      <td>9876543210</td>\n",
       "      <td>Male</td>\n",
       "      <td>Satyam</td>\n",
       "      <td>Kumar</td>\n",
       "      <td>10-Mar-1996</td>\n",
       "    </tr>\n",
       "    <tr>\n",
       "      <th>0</th>\n",
       "      <td>hemanth</td>\n",
       "      <td>Hem123h45</td>\n",
       "      <td>9392594527</td>\n",
       "      <td>Male</td>\n",
       "      <td>Hemanth</td>\n",
       "      <td>Sri</td>\n",
       "      <td>13-Mar-2003</td>\n",
       "    </tr>\n",
       "  </tbody>\n",
       "</table>\n",
       "</div>"
      ],
      "text/plain": [
       "     username   password    phone_no  gender     fname   lname          dob\n",
       "0   Sowmya144   passcode  1234567890  Female    Sowmya     Sri  27-Jul-2003\n",
       "1  Surekha555  gmailpass  9876543210  Female   Surekha  Shukla  12-Dec-1975\n",
       "2   Suresh764  pvsuresh1  3456789876    Male    Suresh  Paleti  23-Dec-1970\n",
       "3    Koushika   codemail  2345678987  Female  Koushika    Retu  13-May-2001\n",
       "4     Krish24    Apassis  9876543212    Male   Krishna     Sai  23-Jun-1997\n",
       "5    Sumita82   passmail  6263332517  Female    Sumita     Sri  20-Apr-1997\n",
       "6     Nikitha    Nobitha  1234567890  Female   Nikitha     Sai  23-May-1987\n",
       "7      Satyam   codepass  9876543210    Male    Satyam   Kumar  10-Mar-1996\n",
       "0     hemanth  Hem123h45  9392594527    Male   Hemanth     Sri  13-Mar-2003"
      ]
     },
     "execution_count": 32,
     "metadata": {},
     "output_type": "execute_result"
    }
   ],
   "source": [
    "final_data"
   ]
  },
  {
   "cell_type": "code",
   "execution_count": 33,
   "metadata": {},
   "outputs": [],
   "source": [
    "day_data = final_data.to_csv('bank-data.csv')"
   ]
  },
  {
   "cell_type": "code",
   "execution_count": 34,
   "metadata": {},
   "outputs": [],
   "source": [
    "bank = pd.read_csv('bank-data.csv', index_col = 'username')"
   ]
  },
  {
   "cell_type": "code",
   "execution_count": 35,
   "metadata": {},
   "outputs": [
    {
     "data": {
      "text/html": [
       "<div>\n",
       "<style scoped>\n",
       "    .dataframe tbody tr th:only-of-type {\n",
       "        vertical-align: middle;\n",
       "    }\n",
       "\n",
       "    .dataframe tbody tr th {\n",
       "        vertical-align: top;\n",
       "    }\n",
       "\n",
       "    .dataframe thead th {\n",
       "        text-align: right;\n",
       "    }\n",
       "</style>\n",
       "<table border=\"1\" class=\"dataframe\">\n",
       "  <thead>\n",
       "    <tr style=\"text-align: right;\">\n",
       "      <th></th>\n",
       "      <th>Unnamed: 0</th>\n",
       "      <th>password</th>\n",
       "      <th>phone_no</th>\n",
       "      <th>gender</th>\n",
       "      <th>fname</th>\n",
       "      <th>lname</th>\n",
       "      <th>dob</th>\n",
       "    </tr>\n",
       "    <tr>\n",
       "      <th>username</th>\n",
       "      <th></th>\n",
       "      <th></th>\n",
       "      <th></th>\n",
       "      <th></th>\n",
       "      <th></th>\n",
       "      <th></th>\n",
       "      <th></th>\n",
       "    </tr>\n",
       "  </thead>\n",
       "  <tbody>\n",
       "    <tr>\n",
       "      <th>Sowmya144</th>\n",
       "      <td>0</td>\n",
       "      <td>passcode</td>\n",
       "      <td>1234567890</td>\n",
       "      <td>Female</td>\n",
       "      <td>Sowmya</td>\n",
       "      <td>Sri</td>\n",
       "      <td>27-Jul-2003</td>\n",
       "    </tr>\n",
       "    <tr>\n",
       "      <th>Surekha555</th>\n",
       "      <td>1</td>\n",
       "      <td>gmailpass</td>\n",
       "      <td>9876543210</td>\n",
       "      <td>Female</td>\n",
       "      <td>Surekha</td>\n",
       "      <td>Shukla</td>\n",
       "      <td>12-Dec-1975</td>\n",
       "    </tr>\n",
       "    <tr>\n",
       "      <th>Suresh764</th>\n",
       "      <td>2</td>\n",
       "      <td>pvsuresh1</td>\n",
       "      <td>3456789876</td>\n",
       "      <td>Male</td>\n",
       "      <td>Suresh</td>\n",
       "      <td>Paleti</td>\n",
       "      <td>23-Dec-1970</td>\n",
       "    </tr>\n",
       "    <tr>\n",
       "      <th>Koushika</th>\n",
       "      <td>3</td>\n",
       "      <td>codemail</td>\n",
       "      <td>2345678987</td>\n",
       "      <td>Female</td>\n",
       "      <td>Koushika</td>\n",
       "      <td>Retu</td>\n",
       "      <td>13-May-2001</td>\n",
       "    </tr>\n",
       "    <tr>\n",
       "      <th>Krish24</th>\n",
       "      <td>4</td>\n",
       "      <td>Apassis</td>\n",
       "      <td>9876543212</td>\n",
       "      <td>Male</td>\n",
       "      <td>Krishna</td>\n",
       "      <td>Sai</td>\n",
       "      <td>23-Jun-1997</td>\n",
       "    </tr>\n",
       "    <tr>\n",
       "      <th>Sumita82</th>\n",
       "      <td>5</td>\n",
       "      <td>passmail</td>\n",
       "      <td>6263332517</td>\n",
       "      <td>Female</td>\n",
       "      <td>Sumita</td>\n",
       "      <td>Sri</td>\n",
       "      <td>20-Apr-1997</td>\n",
       "    </tr>\n",
       "    <tr>\n",
       "      <th>Nikitha</th>\n",
       "      <td>6</td>\n",
       "      <td>Nobitha</td>\n",
       "      <td>1234567890</td>\n",
       "      <td>Female</td>\n",
       "      <td>Nikitha</td>\n",
       "      <td>Sai</td>\n",
       "      <td>23-May-1987</td>\n",
       "    </tr>\n",
       "    <tr>\n",
       "      <th>Satyam</th>\n",
       "      <td>7</td>\n",
       "      <td>codepass</td>\n",
       "      <td>9876543210</td>\n",
       "      <td>Male</td>\n",
       "      <td>Satyam</td>\n",
       "      <td>Kumar</td>\n",
       "      <td>10-Mar-1996</td>\n",
       "    </tr>\n",
       "    <tr>\n",
       "      <th>hemanth</th>\n",
       "      <td>0</td>\n",
       "      <td>Hem123h45</td>\n",
       "      <td>9392594527</td>\n",
       "      <td>Male</td>\n",
       "      <td>Hemanth</td>\n",
       "      <td>Sri</td>\n",
       "      <td>13-Mar-2003</td>\n",
       "    </tr>\n",
       "  </tbody>\n",
       "</table>\n",
       "</div>"
      ],
      "text/plain": [
       "            Unnamed: 0   password    phone_no  gender     fname   lname  \\\n",
       "username                                                                  \n",
       "Sowmya144            0   passcode  1234567890  Female    Sowmya     Sri   \n",
       "Surekha555           1  gmailpass  9876543210  Female   Surekha  Shukla   \n",
       "Suresh764            2  pvsuresh1  3456789876    Male    Suresh  Paleti   \n",
       "Koushika             3   codemail  2345678987  Female  Koushika    Retu   \n",
       "Krish24              4    Apassis  9876543212    Male   Krishna     Sai   \n",
       "Sumita82             5   passmail  6263332517  Female    Sumita     Sri   \n",
       "Nikitha              6    Nobitha  1234567890  Female   Nikitha     Sai   \n",
       "Satyam               7   codepass  9876543210    Male    Satyam   Kumar   \n",
       "hemanth              0  Hem123h45  9392594527    Male   Hemanth     Sri   \n",
       "\n",
       "                    dob  \n",
       "username                 \n",
       "Sowmya144   27-Jul-2003  \n",
       "Surekha555  12-Dec-1975  \n",
       "Suresh764   23-Dec-1970  \n",
       "Koushika    13-May-2001  \n",
       "Krish24     23-Jun-1997  \n",
       "Sumita82    20-Apr-1997  \n",
       "Nikitha     23-May-1987  \n",
       "Satyam      10-Mar-1996  \n",
       "hemanth     13-Mar-2003  "
      ]
     },
     "execution_count": 35,
     "metadata": {},
     "output_type": "execute_result"
    }
   ],
   "source": [
    "bank"
   ]
  },
  {
   "cell_type": "code",
   "execution_count": 36,
   "metadata": {},
   "outputs": [],
   "source": [
    "import time\n",
    "login_success = [] ; login_failed = []\n",
    "def login():\n",
    "    bank = pd.read_csv('bank-data.csv', index_col = 'username')\n",
    "    EMAIL = input('Enter email: ').split(\"@\")\n",
    "    em = EMAIL[0]\n",
    "    if em in bank.index.to_list():\n",
    "        PASS = input('Enter Password : ')\n",
    "        if bank['password'][em] == PASS:\n",
    "            t = time.localtime()\n",
    "            currenttime = time.strftime('%H : %M: %S', t)\n",
    "            print('Login Successfull.')\n",
    "            login_success.append(str(em) + ' at ' + str(currenttime))\n",
    "        else:\n",
    "            t = time.localtime()\n",
    "            currenttime = time.strftime('%H : %M: %S', t)\n",
    "            print('Incorrect Password')\n",
    "            login_failed.append(str(em) + ' at ' + str(currenttime))\n",
    "    else:\n",
    "        print('EMAIL doesnot exist!.')"
   ]
  },
  {
   "cell_type": "code",
   "execution_count": 37,
   "metadata": {},
   "outputs": [
    {
     "name": "stdout",
     "output_type": "stream",
     "text": [
      "Enter email: hemanth@gmail.com\n",
      "Enter Password : hem123h45\n",
      "Incorrect Password\n"
     ]
    }
   ],
   "source": [
    "login()"
   ]
  },
  {
   "cell_type": "code",
   "execution_count": 38,
   "metadata": {},
   "outputs": [
    {
     "name": "stdout",
     "output_type": "stream",
     "text": [
      "Enter email: hemanth@gmail.com\n",
      "Enter Password : Hem123h45\n",
      "Login Successfull.\n"
     ]
    }
   ],
   "source": [
    "login()"
   ]
  },
  {
   "cell_type": "code",
   "execution_count": 39,
   "metadata": {},
   "outputs": [
    {
     "name": "stdout",
     "output_type": "stream",
     "text": [
      "Enter email: Surekha555@gmail.com\n",
      "Enter Password : gmailpass\n",
      "Login Successfull.\n"
     ]
    }
   ],
   "source": [
    "login()"
   ]
  },
  {
   "cell_type": "code",
   "execution_count": 40,
   "metadata": {},
   "outputs": [
    {
     "data": {
      "text/plain": [
       "['hemanth at 16 : 54: 13', 'Surekha555 at 16 : 56: 11']"
      ]
     },
     "execution_count": 40,
     "metadata": {},
     "output_type": "execute_result"
    }
   ],
   "source": [
    "login_success"
   ]
  },
  {
   "cell_type": "code",
   "execution_count": 41,
   "metadata": {},
   "outputs": [
    {
     "data": {
      "text/plain": [
       "['hemanth at 16 : 53: 50']"
      ]
     },
     "execution_count": 41,
     "metadata": {},
     "output_type": "execute_result"
    }
   ],
   "source": [
    "login_failed\n"
   ]
  },
  {
   "cell_type": "code",
   "execution_count": 42,
   "metadata": {},
   "outputs": [],
   "source": [
    "data = 'https://github.com/paletinaveena/Gmail-Registration/blob/main/Gmail_members_details.csv'"
   ]
  }
 ],
 "metadata": {
  "kernelspec": {
   "display_name": "Python 3",
   "language": "python",
   "name": "python3"
  },
  "language_info": {
   "codemirror_mode": {
    "name": "ipython",
    "version": 3
   },
   "file_extension": ".py",
   "mimetype": "text/x-python",
   "name": "python",
   "nbconvert_exporter": "python",
   "pygments_lexer": "ipython3",
   "version": "3.8.5"
  }
 },
 "nbformat": 4,
 "nbformat_minor": 4
}
