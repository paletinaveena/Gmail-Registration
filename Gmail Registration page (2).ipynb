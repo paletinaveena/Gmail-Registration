{
 "cells": [
  {
   "cell_type": "markdown",
   "metadata": {},
   "source": [
    "\n",
    "# <center>G-Mail Registration Project</center>\n",
    "\n",
    "<img src = \"https://www.google.com/logos/doodles/2020/stay-and-play-at-home-with-popular-past-google-doodles-cricket-2017-6753651837108767-2xa.gif\">"
   ]
  },
  {
   "cell_type": "markdown",
   "metadata": {},
   "source": [
    "### Things to focus on :\n",
    "\n",
    "1. uniqueness of gmail id\n",
    "2. security of passwords\n",
    "3. otp management\n",
    "4. storing data\n",
    "<img src = \"https://i1.wp.com/www.scorershub.com/wp-content/uploads/2019/06/create-Gmail-accountb-compressor.png?w=910&ssl=1\">"
   ]
  },
  {
   "cell_type": "code",
   "execution_count": 1,
   "metadata": {},
   "outputs": [],
   "source": [
    "username = ['Sowmya144'  ,'Surekha555','Suresh764','Koushika' ,'Krish24', 'Sumita82', 'Nikitha', 'Satyam']\n",
    "password = ['passcode','gmailpass' ,'pvsuresh1' ,'codemail' ,'Apassis', 'passmail', 'Nobitha', 'codepass']\n",
    "phone_no = ['1234567890' ,'9876543210' ,'3456789876' ,'2345678987' ,'9876543212' ,'6263332517' ,'1234567890' ,'9876543210']\n",
    "gender   = ['Female' ,'Female' ,'Male' ,'Female' ,'Male' ,'Female' ,'Female' ,'Male']\n",
    "fname    = ['Sowmya'  ,'Surekha' ,'Suresh' ,'Koushika' ,'Krishna' , 'Sumita' , 'Nikitha' , 'Satyam']\n",
    "lname    = ['Sri' ,'Shukla' ,'Paleti' ,'Retu' ,'Sai' ,'Sri' ,'Sai' ,'Kumar']\n",
    "dob      = ['27-Jul-2003', '12-Dec-1975','23-Dec-1970' ,'13-May-2001' ,'23-Jun-1997' ,'20-Apr-1997' ,'23-May-1987' ,'10-Mar-1996']"
   ]
  },
  {
   "cell_type": "code",
   "execution_count": 2,
   "metadata": {},
   "outputs": [],
   "source": [
    "sample_data = {'username':username, 'password' : password, 'phone_no' : phone_no , 'gender' : gender , 'fname' : fname,\n",
    "               'lname' : lname, 'dob' :dob}"
   ]
  },
  {
   "cell_type": "code",
   "execution_count": 3,
   "metadata": {},
   "outputs": [
    {
     "data": {
      "text/plain": [
       "dict_keys(['username', 'password', 'phone_no', 'gender', 'fname', 'lname', 'dob'])"
      ]
     },
     "execution_count": 3,
     "metadata": {},
     "output_type": "execute_result"
    }
   ],
   "source": [
    "sample_data.keys()"
   ]
  },
  {
   "cell_type": "code",
   "execution_count": 4,
   "metadata": {},
   "outputs": [
    {
     "data": {
      "text/plain": [
       "['Sowmya144',\n",
       " 'Surekha555',\n",
       " 'Suresh764',\n",
       " 'Koushika',\n",
       " 'Krish24',\n",
       " 'Sumita82',\n",
       " 'Nikitha',\n",
       " 'Satyam']"
      ]
     },
     "execution_count": 4,
     "metadata": {},
     "output_type": "execute_result"
    }
   ],
   "source": [
    "sample_data['username']"
   ]
  },
  {
   "cell_type": "code",
   "execution_count": 5,
   "metadata": {},
   "outputs": [],
   "source": [
    "import pandas as pd \n",
    "df = pd.DataFrame(sample_data)"
   ]
  },
  {
   "cell_type": "code",
   "execution_count": 6,
   "metadata": {},
   "outputs": [
    {
     "data": {
      "text/html": [
       "<div>\n",
       "<style scoped>\n",
       "    .dataframe tbody tr th:only-of-type {\n",
       "        vertical-align: middle;\n",
       "    }\n",
       "\n",
       "    .dataframe tbody tr th {\n",
       "        vertical-align: top;\n",
       "    }\n",
       "\n",
       "    .dataframe thead th {\n",
       "        text-align: right;\n",
       "    }\n",
       "</style>\n",
       "<table border=\"1\" class=\"dataframe\">\n",
       "  <thead>\n",
       "    <tr style=\"text-align: right;\">\n",
       "      <th></th>\n",
       "      <th>username</th>\n",
       "      <th>password</th>\n",
       "      <th>phone_no</th>\n",
       "      <th>gender</th>\n",
       "      <th>fname</th>\n",
       "      <th>lname</th>\n",
       "      <th>dob</th>\n",
       "    </tr>\n",
       "  </thead>\n",
       "  <tbody>\n",
       "    <tr>\n",
       "      <th>0</th>\n",
       "      <td>Sowmya144</td>\n",
       "      <td>passcode</td>\n",
       "      <td>1234567890</td>\n",
       "      <td>Female</td>\n",
       "      <td>Sowmya</td>\n",
       "      <td>Sri</td>\n",
       "      <td>27-Jul-2003</td>\n",
       "    </tr>\n",
       "    <tr>\n",
       "      <th>1</th>\n",
       "      <td>Surekha555</td>\n",
       "      <td>gmailpass</td>\n",
       "      <td>9876543210</td>\n",
       "      <td>Female</td>\n",
       "      <td>Surekha</td>\n",
       "      <td>Shukla</td>\n",
       "      <td>12-Dec-1975</td>\n",
       "    </tr>\n",
       "    <tr>\n",
       "      <th>2</th>\n",
       "      <td>Suresh764</td>\n",
       "      <td>pvsuresh1</td>\n",
       "      <td>3456789876</td>\n",
       "      <td>Male</td>\n",
       "      <td>Suresh</td>\n",
       "      <td>Paleti</td>\n",
       "      <td>23-Dec-1970</td>\n",
       "    </tr>\n",
       "    <tr>\n",
       "      <th>3</th>\n",
       "      <td>Koushika</td>\n",
       "      <td>codemail</td>\n",
       "      <td>2345678987</td>\n",
       "      <td>Female</td>\n",
       "      <td>Koushika</td>\n",
       "      <td>Retu</td>\n",
       "      <td>13-May-2001</td>\n",
       "    </tr>\n",
       "    <tr>\n",
       "      <th>4</th>\n",
       "      <td>Krish24</td>\n",
       "      <td>Apassis</td>\n",
       "      <td>9876543212</td>\n",
       "      <td>Male</td>\n",
       "      <td>Krishna</td>\n",
       "      <td>Sai</td>\n",
       "      <td>23-Jun-1997</td>\n",
       "    </tr>\n",
       "    <tr>\n",
       "      <th>5</th>\n",
       "      <td>Sumita82</td>\n",
       "      <td>passmail</td>\n",
       "      <td>6263332517</td>\n",
       "      <td>Female</td>\n",
       "      <td>Sumita</td>\n",
       "      <td>Sri</td>\n",
       "      <td>20-Apr-1997</td>\n",
       "    </tr>\n",
       "    <tr>\n",
       "      <th>6</th>\n",
       "      <td>Nikitha</td>\n",
       "      <td>Nobitha</td>\n",
       "      <td>1234567890</td>\n",
       "      <td>Female</td>\n",
       "      <td>Nikitha</td>\n",
       "      <td>Sai</td>\n",
       "      <td>23-May-1987</td>\n",
       "    </tr>\n",
       "    <tr>\n",
       "      <th>7</th>\n",
       "      <td>Satyam</td>\n",
       "      <td>codepass</td>\n",
       "      <td>9876543210</td>\n",
       "      <td>Male</td>\n",
       "      <td>Satyam</td>\n",
       "      <td>Kumar</td>\n",
       "      <td>10-Mar-1996</td>\n",
       "    </tr>\n",
       "  </tbody>\n",
       "</table>\n",
       "</div>"
      ],
      "text/plain": [
       "     username   password    phone_no  gender     fname   lname          dob\n",
       "0   Sowmya144   passcode  1234567890  Female    Sowmya     Sri  27-Jul-2003\n",
       "1  Surekha555  gmailpass  9876543210  Female   Surekha  Shukla  12-Dec-1975\n",
       "2   Suresh764  pvsuresh1  3456789876    Male    Suresh  Paleti  23-Dec-1970\n",
       "3    Koushika   codemail  2345678987  Female  Koushika    Retu  13-May-2001\n",
       "4     Krish24    Apassis  9876543212    Male   Krishna     Sai  23-Jun-1997\n",
       "5    Sumita82   passmail  6263332517  Female    Sumita     Sri  20-Apr-1997\n",
       "6     Nikitha    Nobitha  1234567890  Female   Nikitha     Sai  23-May-1987\n",
       "7      Satyam   codepass  9876543210    Male    Satyam   Kumar  10-Mar-1996"
      ]
     },
     "execution_count": 6,
     "metadata": {},
     "output_type": "execute_result"
    }
   ],
   "source": [
    "df"
   ]
  },
  {
   "cell_type": "code",
   "execution_count": 7,
   "metadata": {},
   "outputs": [
    {
     "data": {
      "text/plain": [
       "<AxesSubplot:xlabel='gender', ylabel='count'>"
      ]
     },
     "execution_count": 7,
     "metadata": {},
     "output_type": "execute_result"
    },
    {
     "data": {
      "image/png": "[encoded data removed]",
      "text/plain": [
       "<Figure size 432x288 with 1 Axes>"
      ]
     },
     "metadata": {
      "needs_background": "light"
     },
     "output_type": "display_data"
    }
   ],
   "source": [
    "import seaborn as sns \n",
    "sns.countplot(x = 'gender', data = df)"
   ]
  },
  {
   "cell_type": "markdown",
   "metadata": {},
   "source": [
    "#### Function for taking fname and lname"
   ]
  },
  {
   "cell_type": "code",
   "execution_count": 8,
   "metadata": {},
   "outputs": [],
   "source": [
    "firstname = [] ; lastname = []\n",
    "def flname():\n",
    "    first_name = input('Enter First Name : ')\n",
    "    while True:\n",
    "        if first_name == '':\n",
    "            break\n",
    "        else:\n",
    "            last_name = input('Enter Last Name :')\n",
    "            firstname.append(first_name)\n",
    "            lastname.append(last_name)\n",
    "            if last_name != '':\n",
    "                break"
   ]
  },
  {
   "cell_type": "markdown",
   "metadata": {},
   "source": [
    "#### Fucntion for taking usernames and passwords"
   ]
  },
  {
   "cell_type": "code",
   "execution_count": 9,
   "metadata": {},
   "outputs": [],
   "source": [
    "user = [] ; pas = []\n",
    "def user_pass():\n",
    "    raw_user_name = input(\"Enter Username ['xyz@gmail.com'] : \").split('@gmail.com')\n",
    "    if raw_user_name[0] in username:\n",
    "        print('username already exists.')   \n",
    "    else:\n",
    "        Password = input('Enter Password: ')\n",
    "        if len(Password)> 8:\n",
    "            if Password.isalnum() != True:\n",
    "                print('Enter uppercases, lowercases and use atleast 1 number')\n",
    "            else:\n",
    "                user.append(raw_user_name[0])\n",
    "                pas.append(Password)\n",
    "        else:\n",
    "            print('use atleast 8 characters.')"
   ]
  },
  {
   "cell_type": "code",
   "execution_count": 10,
   "metadata": {},
   "outputs": [
    {
     "name": "stdout",
     "output_type": "stream",
     "text": [
      "Enter Username ['xyz@gmail.com'] : Sowmya144@gmail.com\n",
      "username already exists.\n"
     ]
    }
   ],
   "source": [
    "user_pass()"
   ]
  },
  {
   "cell_type": "markdown",
   "metadata": {},
   "source": [
    "#### Function to take dob, gender, phonenumber."
   ]
  },
  {
   "cell_type": "code",
   "execution_count": 11,
   "metadata": {},
   "outputs": [],
   "source": [
    "Date = [] \n",
    "def dgp():\n",
    "    import datetime, random \n",
    "    m = ['Jan','Feb','Mar','Apr','May','Jun','Jul','Aug','Sep','Oct','Nov','Dec']\n",
    "    day = int(input('Enter Birth Date : [12, 23, 44...] '))\n",
    "    if day > 31:\n",
    "        print('Invalid Input.')\n",
    "    else:\n",
    "        month = input('Enter Birth Month : [Jan, Feb, Mar, ...] ').capitalize()\n",
    "        if month in m:\n",
    "            #x = datetime.datetime.now()\n",
    "            #Y = x.strftime('%y')\n",
    "            year = int(input('Enter Birth year : [1987, 1956, 2013,...] '))\n",
    "            if year >= 2020:\n",
    "                print('Invalid Year')\n",
    "            else:\n",
    "                DOB = str(day) + '-' + str(month) + '-' + str(year) \n",
    "                Date.append(DOB)\n",
    "        else:\n",
    "            print('Enter valid Month Name')"
   ]
  },
  {
   "cell_type": "code",
   "execution_count": 12,
   "metadata": {},
   "outputs": [],
   "source": [
    "phonenum = []\n",
    "def mobile():\n",
    "    import random \n",
    "    MOB = input('Enter 10 Digit Mobile Number : ')\n",
    "    if MOB not in phonenum:\n",
    "        if len(MOB) != 10:\n",
    "            print('Invalid Input')\n",
    "        else:\n",
    "            code_generation = random.randint(627463,736453)\n",
    "            code = 'G-'+ str(code_generation) + 'is your One Time Google Verification Code.'\n",
    "            print('Enter the otp sent to your mobile number ending with ',MOB[-3:])\n",
    "            print(code)\n",
    "            otp_enter = input('Enter OTP : ')\n",
    "            if otp_enter == str('G-'+ str(code_generation)):\n",
    "                print('Please accept the Terms & Conditions to create your account.')\n",
    "                answer = input('Accept the T&Cs Enter 1 : ')\n",
    "                if answer != '1':\n",
    "                    print('Invalid Response')\n",
    "                else:\n",
    "                    phonenum.append(MOB)\n",
    "                    print('Account Created Succesfully.')\n",
    "            else:\n",
    "                print('Invalid OTP.')\n",
    "    else:\n",
    "        print('Number already exists.')"
   ]
  },
  {
   "cell_type": "code",
   "execution_count": 13,
   "metadata": {},
   "outputs": [],
   "source": [
    "Gender = []\n",
    "def gender():\n",
    "    print('Enter Gender : [\"Male, Female\"] : ')\n",
    "    gen_int = input('Enter Gender : ').capitalize()\n",
    "    if gen_int == 'Male' or 'Female':\n",
    "        Gender.append(gen_int)\n",
    "    else:\n",
    "        print('Invalid Input')"
   ]
  },
  {
   "cell_type": "code",
   "execution_count": 14,
   "metadata": {},
   "outputs": [
    {
     "name": "stdout",
     "output_type": "stream",
     "text": [
      "Enter First Name : Sowmya\n",
      "Enter Last Name :Sri\n"
     ]
    }
   ],
   "source": [
    "flname()"
   ]
  },
  {
   "cell_type": "code",
   "execution_count": 15,
   "metadata": {},
   "outputs": [
    {
     "name": "stdout",
     "output_type": "stream",
     "text": [
      "Enter Birth Date : [12, 23, 44...] 27\n",
      "Enter Birth Month : [Jan, Feb, Mar, ...] Jul\n",
      "Enter Birth year : [1987, 1956, 2013,...] 2003\n"
     ]
    }
   ],
   "source": [
    "dgp()"
   ]
  },
  {
   "cell_type": "code",
   "execution_count": 16,
   "metadata": {},
   "outputs": [
    {
     "name": "stdout",
     "output_type": "stream",
     "text": [
      "Enter Gender : [\"Male, Female\"] : \n",
      "Enter Gender : Female\n"
     ]
    }
   ],
   "source": [
    "gender()"
   ]
  },
  {
   "cell_type": "code",
   "execution_count": null,
   "metadata": {},
   "outputs": [
    {
     "name": "stdout",
     "output_type": "stream",
     "text": [
      "Enter 10 Digit Mobile Number : 1234567890\n",
      "Enter the otp sent to your mobile number ending with  890\n",
      "G-650396is your One Time Google Verification Code.\n"
     ]
    }
   ],
   "source": [
    "mobile()"
   ]
  },
  {
   "cell_type": "code",
   "execution_count": null,
   "metadata": {},
   "outputs": [],
   "source": [
    "phonenum.append('9849966528')\n",
    "firstname, lastname, Date, phonenum, Gender , user, pas"
   ]
  },
  {
   "cell_type": "code",
   "execution_count": null,
   "metadata": {},
   "outputs": [],
   "source": [
    "data2 = {'username':user, 'password' : pas, 'phone_no' : phonenum , 'gender' : Gender , 'fname' : firstname,\n",
    "               'lname' : lastname, 'dob' :Date}"
   ]
  },
  {
   "cell_type": "code",
   "execution_count": null,
   "metadata": {},
   "outputs": [],
   "source": [
    "df2 = pd.DataFrame(data2)"
   ]
  },
  {
   "cell_type": "code",
   "execution_count": null,
   "metadata": {},
   "outputs": [],
   "source": [
    "df2"
   ]
  },
  {
   "cell_type": "code",
   "execution_count": null,
   "metadata": {},
   "outputs": [],
   "source": [
    "df"
   ]
  },
  {
   "cell_type": "code",
   "execution_count": null,
   "metadata": {},
   "outputs": [],
   "source": [
    "final_data = pd.concat([df,df2])"
   ]
  },
  {
   "cell_type": "code",
   "execution_count": null,
   "metadata": {},
   "outputs": [],
   "source": [
    "final_data"
   ]
  },
  {
   "cell_type": "code",
   "execution_count": null,
   "metadata": {},
   "outputs": [],
   "source": [
    "day_data = final_data.to_csv('bank-data.csv')"
   ]
  },
  {
   "cell_type": "code",
   "execution_count": null,
   "metadata": {},
   "outputs": [],
   "source": [
    "login_success = [] ; login_failed = []\n",
    "def login():\n",
    "    bank = pd.read_csv('bank-data.csv', index_col = 'username')\n",
    "    EMAIL = input('Enter email: ').split(\"@\")\n",
    "    em = EMAIL[0]\n",
    "    if em in bank.index.to_list():\n",
    "        PASS = input('Enter Password : ')\n",
    "        if bank['password'][em] == PASS:\n",
    "            import time\n",
    "            t = time.localtime()\n",
    "            currenttime = time.strftime('%H : %M: %S', t)\n",
    "            print('Login Successfull.')\n",
    "            login_success.append(str(em) + ' at ' + str(currenttime))\n",
    "        else:\n",
    "            import time\n",
    "            t = time.localtime()\n",
    "            currenttime = time.strftime('%H : %M: %S', t)\n",
    "            print('Incorrect Password')\n",
    "            login_failed.append(str(em) + ' at ' + str(currenttime))\n",
    "    else:\n",
    "        print('EMAIL doesnot exist!.')"
   ]
  },
  {
   "cell_type": "code",
   "execution_count": null,
   "metadata": {},
   "outputs": [],
   "source": [
    "login()"
   ]
  },
  {
   "cell_type": "code",
   "execution_count": null,
   "metadata": {},
   "outputs": [],
   "source": [
    "login_success, login_failed"
   ]
  },
  {
   "cell_type": "code",
   "execution_count": null,
   "metadata": {},
   "outputs": [],
   "source": [
    "bank = pd.read_csv('bank-data.csv', index_col = 'username')"
   ]
  },
  {
   "cell_type": "code",
   "execution_count": null,
   "metadata": {},
   "outputs": [],
   "source": [
    "bank"
   ]
  },
  {
   "cell_type": "code",
   "execution_count": null,
   "metadata": {},
   "outputs": [],
   "source": [
    "bank.columns"
   ]
  },
  {
   "cell_type": "code",
   "execution_count": null,
   "metadata": {},
   "outputs": [],
   "source": [
    "bank.index"
   ]
  },
  {
   "cell_type": "code",
   "execution_count": null,
   "metadata": {},
   "outputs": [],
   "source": [
    "list(bank.index)"
   ]
  },
  {
   "cell_type": "code",
   "execution_count": null,
   "metadata": {},
   "outputs": [],
   "source": [
    "bank['password']['Sowmya144'] == 'passcode'"
   ]
  },
  {
   "cell_type": "code",
   "execution_count": null,
   "metadata": {},
   "outputs": [],
   "source": [
    "bank['dob']['Sowmya144']"
   ]
  },
  {
   "cell_type": "code",
   "execution_count": 41,
   "metadata": {},
   "outputs": [
    {
     "name": "stdout",
     "output_type": "stream",
     "text": [
      "Enter email: npaleti@gmail.com\n",
      "Enter Password : gmailpass\n",
      "Incorrect Password\n"
     ]
    }
   ],
   "source": [
    "login()"
   ]
  },
  {
   "cell_type": "code",
   "execution_count": 42,
   "metadata": {},
   "outputs": [
    {
     "data": {
      "text/plain": [
       "['paletinaveena at 18 : 47: 36']"
      ]
     },
     "execution_count": 42,
     "metadata": {},
     "output_type": "execute_result"
    }
   ],
   "source": [
    "login_success"
   ]
  },
  {
   "cell_type": "code",
   "execution_count": 43,
   "metadata": {},
   "outputs": [
    {
     "data": {
      "text/plain": [
       "['npaleti at 18 : 48: 22']"
      ]
     },
     "execution_count": 43,
     "metadata": {},
     "output_type": "execute_result"
    }
   ],
   "source": [
    "login_failed"
   ]
  },
  {
   "cell_type": "code",
   "execution_count": 43,
   "metadata": {},
   "outputs": [
    {
     "name": "stdout",
     "output_type": "stream",
     "text": [
      "Enter email: paletinaveena@gmail.com\n",
      "Enter Password : password\n",
      "Incorrect Password\n"
     ]
    }
   ],
   "source": [
    "login()"
   ]
  },
  {
   "cell_type": "code",
   "execution_count": 44,
   "metadata": {},
   "outputs": [],
   "source": [
    "data = 'https://github.com/paletinaveena/Gmail-Registration/blob/main/mail-data.csv'"
   ]
  },
  {
   "cell_type": "code",
   "execution_count": 45,
   "metadata": {},
   "outputs": [
    {
     "data": {
      "text/plain": [
       "True"
      ]
     },
     "execution_count": 45,
     "metadata": {},
     "output_type": "execute_result"
    }
   ],
   "source": [
    "import webbrowser as wb \n",
    "wb.open('https://github.com/paletinaveena/Gmail-Registration/blob/main/mail-data.csv')"
   ]
  },
  {
   "cell_type": "code",
   "execution_count": 46,
   "metadata": {},
   "outputs": [
    {
     "name": "stdout",
     "output_type": "stream",
     "text": [
      "No Python documentation found for 'url'.\n",
      "Use help() to get the interactive help utility.\n",
      "Use help(str) for help on the str class.\n",
      "\n"
     ]
    }
   ],
   "source": [
    "help('url')"
   ]
  },
  {
   "cell_type": "code",
   "execution_count": 47,
   "metadata": {},
   "outputs": [],
   "source": [
    "import urllib.request\n",
    "response = urllib.request.urlopen('https://github.com/paletinaveena/Gmail-Registration/blob/main/mail-data.csv')\n",
    "html = response.read()"
   ]
  },
  {
   "cell_type": "code",
   "execution_count": 49,
   "metadata": {},
   "outputs": [],
   "source": [
    "url = 'https://github.com/paletinaveena/Gmail-Registration/blob/main/mail-data.csv'"
   ]
  },
  {
   "cell_type": "code",
   "execution_count": 48,
   "metadata": {},
   "outputs": [
    {
     "data": {
      "text/plain": [
       "b'\\n\\n\\n\\n\\n\\n<!DOCTYPE html>\\n<html lang=\"en\">\\n  <head>\\n    <meta charset=\"utf-8\">\\n  <link rel=\"dns-prefetch\" href=\"https://github.githubassets.com\">\\n  <link rel=\"dns-prefetch\" href=\"https://avatars0.githubusercontent.com\">\\n  <link rel=\"dns-prefetch\" href=\"https://avatars1.githubusercontent.com\">\\n  <link rel=\"dns-prefetch\" href=\"https://avatars2.githubusercontent.com\">\\n  <link rel=\"dns-prefetch\" href=\"https://avatars3.githubusercontent.com\">\\n  <link rel=\"dns-prefetch\" href=\"https://github-cloud.s3.amazonaws.com\">\\n  <link rel=\"dns-prefetch\" href=\"https://user-images.githubusercontent.com/\">\\n\\n\\n\\n  <link crossorigin=\"anonymous\" media=\"all\" integrity=\"sha512-BSy+E+S5PJuDWKcXiIXBoFJ7uJ+88y6hFdIhZpf7nf9MVNVvnJDPUaotaxFUQi8UXCLJOcGv1uifxVMc9o5DYQ==\" rel=\"stylesheet\" href=\"https://github.githubassets.com/assets/frameworks-052cbe13e4b93c9b8358a7178885c1a0.css\" />\\n  <link crossorigin=\"anonymous\" media=\"all\" integrity=\"sha512-xId3BvBZbe72G9pRESTZVPpS8zzMMqxXwuRnqU8ntV0jiyvgILTqJgY0RpLdI/4TShA2gyRuFEztPgA4L1y5BQ==\" rel=\"stylesheet\" href=\"https://github.githubassets.com/assets/site-c4877706f0596deef61bda511124d954.css\" />\\n    <link crossorigin=\"anonymous\" media=\"all\" integrity=\"sha512-PTAFChiWxdIDI/ve6njoqSdPQ3JEwsC8xCAXcTQtmWlAUvOE0r3hSOKM5n7d39gkQ42nsCcLELBb1CpcxqkKCg==\" rel=\"stylesheet\" href=\"https://github.githubassets.com/assets/github-3d30050a1896c5d20323fbdeea78e8a9.css\" />\\n    \\n    \\n    \\n    \\n\\n  <script crossorigin=\"anonymous\" defer=\"defer\" integrity=\"sha512-8K2vvwbW+6H27Nad5ydg8PA2/aMD/LKq+EiK9s0U0hhVZxCI2tWBsYk9beAtisRw2j+Or5k2/F+6dk02nmj/PA==\" type=\"application/javascript\" src=\"https://github.githubassets.com/assets/environment-f0adafbf.js\"></script>\\n    <script crossorigin=\"anonymous\" defer=\"defer\" integrity=\"sha512-bf3k8Y60Hljk6JoJikJwUktgpWsNM3NEnNgmlScAD6u57WAUEgCSZh5BsU5ls8YxsL8cZUaKGHC5fsf143pfaw==\" type=\"application/javascript\" src=\"https://github.githubassets.com/assets/chunk-frameworks-6dfde4f1.js\"></script>\\n    <script crossorigin=\"anonymous\" defer=\"defer\" integrity=\"sha512-TZfq2T+XE31Mcp17bGlABjjeQ/69IH2f/sBvS31c4Jua0e1O/NE+aVbQtItMM2GFlmeEm13p/zyyWGIx10jVKQ==\" type=\"application/javascript\" src=\"https://github.githubassets.com/assets/chunk-vendor-4d97ead9.js\"></script>\\n  \\n  <script crossorigin=\"anonymous\" defer=\"defer\" integrity=\"sha512-gkZCpFyYrX7ycwoeUW7Wyk7sg8OBhVVIA5gFuJfzX3jZcu1jiTPWWM749XEjX9pILro9F5+l+WUfz/MUpAwI0w==\" type=\"application/javascript\" src=\"https://github.githubassets.com/assets/behaviors-824642a4.js\"></script>\\n  \\n    <script crossorigin=\"anonymous\" defer=\"defer\" integrity=\"sha512-F/8sNCLF603gJL0egQeZwFTYP9dfZAVEWHdjMssZ2opLZXRK08vgowBRzKyra6u9zU/rGVxe+igfJsSWzfO2lg==\" type=\"application/javascript\" data-module-id=\"./chunk-contributions-spider-graph.js\" data-src=\"https://github.githubassets.com/assets/chunk-contributions-spider-graph-17ff2c34.js\"></script>\\n    <script crossorigin=\"anonymous\" defer=\"defer\" integrity=\"sha512-obMR8mPKx8OvqRe34LgnUcxeJ1qujiA4ND3H6UX13ExMlA/WfHLjEzXRmgGRcRvN/8J1nzc+Z+jgz/PLTFy6zg==\" type=\"application/javascript\" data-module-id=\"./chunk-drag-drop.js\" data-src=\"https://github.githubassets.com/assets/chunk-drag-drop-a1b311f2.js\"></script>\\n    <script crossorigin=\"anonymous\" defer=\"defer\" integrity=\"sha512-AVtc/43rg+h7XgMPOa+baO1Fj+uiMUrLHd16U6+c6Tk7atk70Ux4IcGRPOHqMv422QIJD7l7BhG2PL4G/tUVKg==\" type=\"application/javascript\" data-module-id=\"./chunk-jump-to.js\" data-src=\"https://github.githubassets.com/assets/chunk-jump-to-015b5cff.js\"></script>\\n    <script crossorigin=\"anonymous\" defer=\"defer\" integrity=\"sha512-biWH4OAQPiDiTkaeyDnXf6hHF3u3Mv3eaDEvt8AdT/QvWDpLbnusALT4ZO+f+DgYp07UiHxNRAB6/J7IwPW6TQ==\" type=\"application/javascript\" data-module-id=\"./chunk-lib.dev.js\" data-src=\"https://github.githubassets.com/assets/chunk-lib.dev-6e2587e0.js\"></script>\\n    <script crossorigin=\"anonymous\" defer=\"defer\" integrity=\"sha512-tcH4xCRuMBAh1PruDaiwGnRIbHlF6bGLhxyCQ16uqok1cV5QFMguVPWJtN9KI0jGQOgN+Pha3+uOUXhXdfK/qw==\" type=\"application/javascript\" data-module-id=\"./chunk-profile-pins-element.js\" data-src=\"https://github.githubassets.com/assets/chunk-profile-pins-element-b5c1f8c4.js\"></script>\\n    <script crossorigin=\"anonymous\" defer=\"defer\" integrity=\"sha512-E+H+wAtjiqutBvn2cnXzDIvmasIhYiS7i7JzOfFUwo+Ej8zT54OrJtP//RhwixnypgOpCF4JvqzYy6zOtORDmg==\" type=\"application/javascript\" data-module-id=\"./chunk-runner-groups.js\" data-src=\"https://github.githubassets.com/assets/chunk-runner-groups-13e1fec0.js\"></script>\\n    <script crossorigin=\"anonymous\" defer=\"defer\" integrity=\"sha512-rIWotuwsYxV+jXNuevOVsulW2zsw98Gi4j7KXrJZq+bWFV86Y/R75+1jMjt5k1MPgabdTPpWPI/IoESZhah9ng==\" type=\"application/javascript\" data-module-id=\"./chunk-sortable-behavior.js\" data-src=\"https://github.githubassets.com/assets/chunk-sortable-behavior-ac85a8b6.js\"></script>\\n    <script crossorigin=\"anonymous\" defer=\"defer\" integrity=\"sha512-ZBICwPA18KYIgHbafqdjnTkxoCSNf/39rTlupkrtdpIWizECoux0ROzjAgyAx20Bf27VfshuBqrYwDqOVftyag==\" type=\"application/javascript\" data-module-id=\"./chunk-tweetsodium.js\" data-src=\"https://github.githubassets.com/assets/chunk-tweetsodium-641202c0.js\"></script>\\n    <script crossorigin=\"anonymous\" defer=\"defer\" integrity=\"sha512-QUtHMb3mxbE2DQSQZb9+tK8ZC2m05FFqZOa5ju2Sj0GdiQV+ce/bnIK/YwoMdty44NEhEIkZUIyh9DqLMsRedg==\" type=\"application/javascript\" data-module-id=\"./chunk-user-status-submit.js\" data-src=\"https://github.githubassets.com/assets/chunk-user-status-submit-414b4731.js\"></script>\\n  \\n  <script crossorigin=\"anonymous\" defer=\"defer\" integrity=\"sha512-B+TgAy+wlZmUjsDcWKt55BrTpxxZDolcD9v47x25Ue46lVb9c0n1tRz+BjjSeC4CuN9M3psDUpBhsr1aFKpFCw==\" type=\"application/javascript\" src=\"https://github.githubassets.com/assets/repositories-07e4e003.js\"></script>\\n<script crossorigin=\"anonymous\" defer=\"defer\" integrity=\"sha512-Dl4JXoI2igFuQLn6MCPPgiS7TVx3c0/G8iaIZCNzgGi4Iwg8TC0y4LPT584yJ+r6ZsF5QIFL9uo+nhHdBvfLNQ==\" type=\"application/javascript\" src=\"https://github.githubassets.com/assets/diffs-0e5e095e.js\"></script>\\n\\n  <meta name=\"viewport\" content=\"width=device-width\">\\n  \\n  <title>Gmail-Registration/mail-data.csv at main \\xc2\\xb7 paletinaveena/Gmail-Registration \\xc2\\xb7 GitHub</title>\\n    <meta name=\"description\" content=\"Contribute to paletinaveena/Gmail-Registration development by creating an account on GitHub.\">\\n    <link rel=\"search\" type=\"application/opensearchdescription+xml\" href=\"/opensearch.xml\" title=\"GitHub\">\\n  <link rel=\"fluid-icon\" href=\"https://github.com/fluidicon.png\" title=\"GitHub\">\\n  <meta property=\"fb:app_id\" content=\"1401488693436528\">\\n  <meta name=\"apple-itunes-app\" content=\"app-id=1477376905\" />\\n    <meta name=\"twitter:image:src\" content=\"https://avatars2.githubusercontent.com/u/76488426?s=400&amp;v=4\" /><meta name=\"twitter:site\" content=\"@github\" /><meta name=\"twitter:card\" content=\"summary\" /><meta name=\"twitter:title\" content=\"paletinaveena/Gmail-Registration\" /><meta name=\"twitter:description\" content=\"Contribute to paletinaveena/Gmail-Registration development by creating an account on GitHub.\" />\\n    <meta property=\"og:image\" content=\"https://avatars2.githubusercontent.com/u/76488426?s=400&amp;v=4\" /><meta property=\"og:site_name\" content=\"GitHub\" /><meta property=\"og:type\" content=\"object\" /><meta property=\"og:title\" content=\"paletinaveena/Gmail-Registration\" /><meta property=\"og:url\" content=\"https://github.com/paletinaveena/Gmail-Registration\" /><meta property=\"og:description\" content=\"Contribute to paletinaveena/Gmail-Registration development by creating an account on GitHub.\" />\\n\\n\\n\\n    \\n\\n  <link rel=\"assets\" href=\"https://github.githubassets.com/\">\\n  \\n\\n  <meta name=\"request-id\" content=\"D134:0A64:22CA544:2C9AD9B:5FE49535\" data-pjax-transient=\"true\"/><meta name=\"html-safe-nonce\" content=\"d0b2eff7a743b6a8fe7e123214a42fc4c0de9ed9ea126f1eb3b027dfa30e1305\" data-pjax-transient=\"true\"/><meta name=\"visitor-payload\" content=\"eyJyZWZlcnJlciI6IiIsInJlcXVlc3RfaWQiOiJEMTM0OjBBNjQ6MjJDQTU0NDoyQzlBRDlCOjVGRTQ5NTM1IiwidmlzaXRvcl9pZCI6IjM4MjQwNDgxMDgxMDk4NjIxOTciLCJyZWdpb25fZWRnZSI6ImFwLXNvdXRoLTEiLCJyZWdpb25fcmVuZGVyIjoiYXAtc291dGgtMSJ9\" data-pjax-transient=\"true\"/><meta name=\"visitor-hmac\" content=\"06731ed3ea368b82929c08dd5577ea662aa055846b687330596f1dc5d21ac206\" data-pjax-transient=\"true\"/>\\n\\n    <meta name=\"hovercard-subject-tag\" content=\"repository:323672651\" data-pjax-transient>\\n\\n\\n  <meta name=\"github-keyboard-shortcuts\" content=\"repository,source-code\" data-pjax-transient=\"true\" />\\n\\n  \\n\\n  <meta name=\"selected-link\" value=\"repo_source\" data-pjax-transient>\\n\\n    <meta name=\"google-site-verification\" content=\"c1kuD-K2HIVF635lypcsWPoD4kilo5-jA_wBFyT4uMY\">\\n  <meta name=\"google-site-verification\" content=\"KT5gs8h0wvaagLKAVWq8bbeNwnZZK1r1XQysX3xurLU\">\\n  <meta name=\"google-site-verification\" content=\"ZzhVyEFwb7w3e0-uOTltm8Jsck2F5StVihD0exw2fsA\">\\n  <meta name=\"google-site-verification\" content=\"GXs5KoUUkNCoaAZn7wPN-t01Pywp9M3sEjnt_3_ZWPc\">\\n\\n  <meta name=\"octolytics-host\" content=\"collector.githubapp.com\" /><meta name=\"octolytics-app-id\" content=\"github\" /><meta name=\"octolytics-event-url\" content=\"https://collector.githubapp.com/github-external/browser_event\" />\\n\\n  <meta name=\"analytics-location\" content=\"/&lt;user-name&gt;/&lt;repo-name&gt;/blob/show\" data-pjax-transient=\"true\" />\\n\\n  \\n\\n\\n\\n  <meta name=\"optimizely-datafile\" content=\"{&quot;version&quot;: &quot;4&quot;, &quot;rollouts&quot;: [], &quot;typedAudiences&quot;: [], &quot;anonymizeIP&quot;: true, &quot;projectId&quot;: &quot;16737760170&quot;, &quot;variables&quot;: [], &quot;featureFlags&quot;: [], &quot;experiments&quot;: [{&quot;status&quot;: &quot;Running&quot;, &quot;audienceIds&quot;: [], &quot;variations&quot;: [{&quot;variables&quot;: [], &quot;id&quot;: &quot;19512260014&quot;, &quot;key&quot;: &quot;separate_plans_and_usage&quot;}, {&quot;variables&quot;: [], &quot;id&quot;: &quot;19509770036&quot;, &quot;key&quot;: &quot;control&quot;}], &quot;id&quot;: &quot;19536000020&quot;, &quot;key&quot;: &quot;account_billing_plans_and_usage&quot;, &quot;layerId&quot;: &quot;19545220022&quot;, &quot;trafficAllocation&quot;: [{&quot;entityId&quot;: &quot;19509770036&quot;, &quot;endOfRange&quot;: 2500}, {&quot;entityId&quot;: &quot;&quot;, &quot;endOfRange&quot;: 5000}, {&quot;entityId&quot;: &quot;19512260014&quot;, &quot;endOfRange&quot;: 7500}, {&quot;entityId&quot;: &quot;&quot;, &quot;endOfRange&quot;: 10000}], &quot;forcedVariations&quot;: {&quot;1238720267648ea2c88a74b410aa3c5c&quot;: &quot;separate_plans_and_usage&quot;}}], &quot;audiences&quot;: [{&quot;conditions&quot;: &quot;[\\\\&quot;or\\\\&quot;, {\\\\&quot;match\\\\&quot;: \\\\&quot;exact\\\\&quot;, \\\\&quot;name\\\\&quot;: \\\\&quot;$opt_dummy_attribute\\\\&quot;, \\\\&quot;type\\\\&quot;: \\\\&quot;custom_attribute\\\\&quot;, \\\\&quot;value\\\\&quot;: \\\\&quot;$opt_dummy_value\\\\&quot;}]&quot;, &quot;id&quot;: &quot;$opt_dummy_audience&quot;, &quot;name&quot;: &quot;Optimizely-Generated Audience for Backwards Compatibility&quot;}], &quot;groups&quot;: [], &quot;attributes&quot;: [{&quot;id&quot;: &quot;16822470375&quot;, &quot;key&quot;: &quot;user_id&quot;}, {&quot;id&quot;: &quot;17143601254&quot;, &quot;key&quot;: &quot;spammy&quot;}, {&quot;id&quot;: &quot;18175660309&quot;, &quot;key&quot;: &quot;organization_plan&quot;}, {&quot;id&quot;: &quot;18813001570&quot;, &quot;key&quot;: &quot;is_logged_in&quot;}, {&quot;id&quot;: &quot;19073851829&quot;, &quot;key&quot;: &quot;geo&quot;}], &quot;botFiltering&quot;: false, &quot;accountId&quot;: &quot;16737760170&quot;, &quot;events&quot;: [{&quot;experimentIds&quot;: [], &quot;id&quot;: &quot;17911811441&quot;, &quot;key&quot;: &quot;hydro_click.dashboard.teacher_toolbox_cta&quot;}, {&quot;experimentIds&quot;: [], &quot;id&quot;: &quot;18124116703&quot;, &quot;key&quot;: &quot;submit.organizations.complete_sign_up&quot;}, {&quot;experimentIds&quot;: [], &quot;id&quot;: &quot;18145892387&quot;, &quot;key&quot;: &quot;no_metric.tracked_outside_of_optimizely&quot;}, {&quot;experimentIds&quot;: [], &quot;id&quot;: &quot;18178755568&quot;, &quot;key&quot;: &quot;click.org_onboarding_checklist.add_repo&quot;}, {&quot;experimentIds&quot;: [], &quot;id&quot;: &quot;18180553241&quot;, &quot;key&quot;: &quot;submit.repository_imports.create&quot;}, {&quot;experimentIds&quot;: [], &quot;id&quot;: &quot;18186103728&quot;, &quot;key&quot;: &quot;click.help.learn_more_about_repository_creation&quot;}, {&quot;experimentIds&quot;: [], &quot;id&quot;: &quot;18188530140&quot;, &quot;key&quot;: &quot;test_event.do_not_use_in_production&quot;}, {&quot;experimentIds&quot;: [], &quot;id&quot;: &quot;18191963644&quot;, &quot;key&quot;: &quot;click.empty_org_repo_cta.transfer_repository&quot;}, {&quot;experimentIds&quot;: [], &quot;id&quot;: &quot;18195612788&quot;, &quot;key&quot;: &quot;click.empty_org_repo_cta.import_repository&quot;}, {&quot;experimentIds&quot;: [], &quot;id&quot;: &quot;18210945499&quot;, &quot;key&quot;: &quot;click.org_onboarding_checklist.invite_members&quot;}, {&quot;experimentIds&quot;: [], &quot;id&quot;: &quot;18211063248&quot;, &quot;key&quot;: &quot;click.empty_org_repo_cta.create_repository&quot;}, {&quot;experimentIds&quot;: [], &quot;id&quot;: &quot;18215721889&quot;, &quot;key&quot;: &quot;click.org_onboarding_checklist.update_profile&quot;}, {&quot;experimentIds&quot;: [], &quot;id&quot;: &quot;18224360785&quot;, &quot;key&quot;: &quot;click.org_onboarding_checklist.dismiss&quot;}, {&quot;experimentIds&quot;: [], &quot;id&quot;: &quot;18234832286&quot;, &quot;key&quot;: &quot;submit.organization_activation.complete&quot;}, {&quot;experimentIds&quot;: [], &quot;id&quot;: &quot;18252392383&quot;, &quot;key&quot;: &quot;submit.org_repository.create&quot;}, {&quot;experimentIds&quot;: [], &quot;id&quot;: &quot;18257551537&quot;, &quot;key&quot;: &quot;submit.org_member_invitation.create&quot;}, {&quot;experimentIds&quot;: [], &quot;id&quot;: &quot;18259522260&quot;, &quot;key&quot;: &quot;submit.organization_profile.update&quot;}, {&quot;experimentIds&quot;: [], &quot;id&quot;: &quot;18564603625&quot;, &quot;key&quot;: &quot;view.classroom_select_organization&quot;}, {&quot;experimentIds&quot;: [], &quot;id&quot;: &quot;18568612016&quot;, &quot;key&quot;: &quot;click.classroom_sign_in_click&quot;}, {&quot;experimentIds&quot;: [], &quot;id&quot;: &quot;18572592540&quot;, &quot;key&quot;: &quot;view.classroom_name&quot;}, {&quot;experimentIds&quot;: [], &quot;id&quot;: &quot;18574203855&quot;, &quot;key&quot;: &quot;click.classroom_create_organization&quot;}, {&quot;experimentIds&quot;: [], &quot;id&quot;: &quot;18582053415&quot;, &quot;key&quot;: &quot;click.classroom_select_organization&quot;}, {&quot;experimentIds&quot;: [], &quot;id&quot;: &quot;18589463420&quot;, &quot;key&quot;: &quot;click.classroom_create_classroom&quot;}, {&quot;experimentIds&quot;: [], &quot;id&quot;: &quot;18591323364&quot;, &quot;key&quot;: &quot;click.classroom_create_first_classroom&quot;}, {&quot;experimentIds&quot;: [], &quot;id&quot;: &quot;18591652321&quot;, &quot;key&quot;: &quot;click.classroom_grant_access&quot;}, {&quot;experimentIds&quot;: [], &quot;id&quot;: &quot;18607131425&quot;, &quot;key&quot;: &quot;view.classroom_creation&quot;}, {&quot;experimentIds&quot;: [], &quot;id&quot;: &quot;18831680583&quot;, &quot;key&quot;: &quot;upgrade_account_plan&quot;}, {&quot;experimentIds&quot;: [], &quot;id&quot;: &quot;19064064515&quot;, &quot;key&quot;: &quot;click.signup&quot;}, {&quot;experimentIds&quot;: [], &quot;id&quot;: &quot;19075373687&quot;, &quot;key&quot;: &quot;click.view_account_billing_page&quot;}, {&quot;experimentIds&quot;: [], &quot;id&quot;: &quot;19077355841&quot;, &quot;key&quot;: &quot;click.dismiss_signup_prompt&quot;}, {&quot;experimentIds&quot;: [], &quot;id&quot;: &quot;19079713938&quot;, &quot;key&quot;: &quot;click.contact_sales&quot;}, {&quot;experimentIds&quot;: [&quot;19536000020&quot;], &quot;id&quot;: &quot;19120963070&quot;, &quot;key&quot;: &quot;click.compare_account_plans&quot;}, {&quot;experimentIds&quot;: [&quot;19536000020&quot;], &quot;id&quot;: &quot;19151690317&quot;, &quot;key&quot;: &quot;click.upgrade_account_cta&quot;}, {&quot;experimentIds&quot;: [], &quot;id&quot;: &quot;19424193129&quot;, &quot;key&quot;: &quot;click.open_account_switcher&quot;}, {&quot;experimentIds&quot;: [], &quot;id&quot;: &quot;19520330825&quot;, &quot;key&quot;: &quot;click.visit_account_profile&quot;}, {&quot;experimentIds&quot;: [], &quot;id&quot;: &quot;19540970635&quot;, &quot;key&quot;: &quot;click.switch_account_context&quot;}], &quot;revision&quot;: &quot;380&quot;}\" />\\n  <!-- To prevent page flashing, the optimizely JS needs to be loaded in the\\n    <head> tag before the DOM renders -->\\n  <script crossorigin=\"anonymous\" defer=\"defer\" integrity=\"sha512-VJrqSK702Mzl9EQxm2OvFxKaumGptgVdeJS2rsaLvVlOdR4HEu3ZFjtV83kMKdYRelUnxxaAFw0wthkpdEUafw==\" type=\"application/javascript\" src=\"https://github.githubassets.com/assets/optimizely-549aea48.js\"></script>\\n\\n\\n\\n  \\n\\n      <meta name=\"hostname\" content=\"github.com\">\\n    <meta name=\"user-login\" content=\"\">\\n\\n\\n      <meta name=\"expected-hostname\" content=\"github.com\">\\n\\n\\n    <meta name=\"enabled-features\" content=\"MARKETPLACE_PENDING_INSTALLATIONS,ACTIONS_ENVIRONMENTS,ACTIONS_ENVIRONMENTS\">\\n\\n  <meta http-equiv=\"x-pjax-version\" content=\"1229dbafd20c615f3370613f087a7a682edca9bf14dc490ca1172c6474648f71\">\\n  \\n\\n        <link href=\"https://github.com/paletinaveena/Gmail-Registration/commits/main.atom\" rel=\"alternate\" title=\"Recent Commits to Gmail-Registration:main\" type=\"application/atom+xml\">\\n\\n  <meta name=\"go-import\" content=\"github.com/paletinaveena/Gmail-Registration git https://github.com/paletinaveena/Gmail-Registration.git\">\\n\\n  <meta name=\"octolytics-dimension-user_id\" content=\"76488426\" /><meta name=\"octolytics-dimension-user_login\" content=\"paletinaveena\" /><meta name=\"octolytics-dimension-repository_id\" content=\"323672651\" /><meta name=\"octolytics-dimension-repository_nwo\" content=\"paletinaveena/Gmail-Registration\" /><meta name=\"octolytics-dimension-repository_public\" content=\"true\" /><meta name=\"octolytics-dimension-repository_is_fork\" content=\"false\" /><meta name=\"octolytics-dimension-repository_network_root_id\" content=\"323672651\" /><meta name=\"octolytics-dimension-repository_network_root_nwo\" content=\"paletinaveena/Gmail-Registration\" /><meta name=\"octolytics-dimension-repository_explore_github_marketplace_ci_cta_shown\" content=\"false\" />\\n\\n\\n\\n    <link rel=\"canonical\" href=\"https://github.com/paletinaveena/Gmail-Registration/blob/main/mail-data.csv\" data-pjax-transient>\\n\\n\\n  <meta name=\"browser-stats-url\" content=\"https://api.github.com/_private/browser/stats\">\\n\\n  <meta name=\"browser-errors-url\" content=\"https://api.github.com/_private/browser/errors\">\\n\\n  <meta name=\"browser-optimizely-client-errors-url\" content=\"https://api.github.com/_private/browser/optimizely_client/errors\">\\n\\n  <link rel=\"mask-icon\" href=\"https://github.githubassets.com/pinned-octocat.svg\" color=\"#000000\">\\n  <link rel=\"alternate icon\" class=\"js-site-favicon\" type=\"image/png\" href=\"https://github.githubassets.com/favicons/favicon.png\">\\n  <link rel=\"icon\" class=\"js-site-favicon\" type=\"image/svg+xml\" href=\"https://github.githubassets.com/favicons/favicon.svg\">\\n\\n<meta name=\"theme-color\" content=\"#1e2327\">\\n  <meta name=\"color-scheme\" content=\"light dark\">\\n\\n\\n  <link rel=\"manifest\" href=\"/manifest.json\" crossOrigin=\"use-credentials\">\\n\\n  </head>\\n\\n  <body class=\"logged-out env-production page-responsive page-blob\">\\n    \\n\\n    <div class=\"position-relative js-header-wrapper \">\\n      <a href=\"#start-of-content\" class=\"px-2 py-4 bg-blue text-white show-on-focus js-skip-to-content\">Skip to content</a>\\n      <span class=\"progress-pjax-loader width-full js-pjax-loader-bar Progress position-fixed\">\\n    <span style=\"background-color: #79b8ff;width: 0%;\" class=\"Progress-item progress-pjax-loader-bar \"></span>\\n</span>      \\n      \\n\\n\\n            <header class=\"Header-old header-logged-out js-details-container Details position-relative f4 py-2\" role=\"banner\">\\n  <div class=\"container-xl d-lg-flex flex-items-center p-responsive\">\\n    <div class=\"d-flex flex-justify-between flex-items-center\">\\n        <a class=\"mr-4\" href=\"https://github.com/\" aria-label=\"Homepage\" data-ga-click=\"(Logged out) Header, go to homepage, icon:logo-wordmark\">\\n          <svg height=\"32\" class=\"octicon octicon-mark-github text-white\" viewBox=\"0 0 16 16\" version=\"1.1\" width=\"32\" aria-hidden=\"true\"><path fill-rule=\"evenodd\" d=\"M8 0C3.58 0 0 3.58 0 8c0 3.54 2.29 6.53 5.47 7.59.4.07.55-.17.55-.38 0-.19-.01-.82-.01-1.49-2.01.37-2.53-.49-2.69-.94-.09-.23-.48-.94-.82-1.13-.28-.15-.68-.52-.01-.53.63-.01 1.08.58 1.23.82.72 1.21 1.87.87 2.33.66.07-.52.28-.87.51-1.07-1.78-.2-3.64-.89-3.64-3.95 0-.87.31-1.59.82-2.15-.08-.2-.36-1.02.08-2.12 0 0 .67-.21 2.2.82.64-.18 1.32-.27 2-.27.68 0 1.36.09 2 .27 1.53-1.04 2.2-.82 2.2-.82.44 1.1.16 1.92.08 2.12.51.56.82 1.27.82 2.15 0 3.07-1.87 3.75-3.65 3.95.29.25.54.73.54 1.48 0 1.07-.01 1.93-.01 2.2 0 .21.15.46.55.38A8.013 8.013 0 0016 8c0-4.42-3.58-8-8-8z\"></path></svg>\\n        </a>\\n\\n          <div class=\"d-lg-none css-truncate css-truncate-target width-fit p-2\">\\n            \\n\\n          </div>\\n\\n        <div class=\"d-flex flex-items-center\">\\n              <a href=\"/join?ref_cta=Sign+up&amp;ref_loc=header+logged+out&amp;ref_page=%2F%3Cuser-name%3E%2F%3Crepo-name%3E%2Fblob%2Fshow&amp;source=header-repo\"\\n                class=\"d-inline-block d-lg-none f5 text-white no-underline border border-gray-dark rounded-2 px-2 py-1 mr-3 mr-sm-5\"\\n                data-hydro-click=\"{&quot;event_type&quot;:&quot;authentication.click&quot;,&quot;payload&quot;:{&quot;location_in_page&quot;:&quot;site header&quot;,&quot;repository_id&quot;:null,&quot;auth_type&quot;:&quot;SIGN_UP&quot;,&quot;originating_url&quot;:&quot;https://github.com/paletinaveena/Gmail-Registration/blob/main/mail-data.csv&quot;,&quot;user_id&quot;:null}}\" data-hydro-click-hmac=\"547a9f2c96bd7544948f05b16344ccb303387b6986cca63b706e514db48533de\"\\n                data-ga-click=\"Sign up, click to sign up for account, ref_page:/&lt;user-name&gt;/&lt;repo-name&gt;/blob/show;ref_cta:Sign up;ref_loc:header logged out\">\\n                Sign&nbsp;up\\n              </a>\\n\\n          <button class=\"btn-link d-lg-none mt-1 js-details-target\" type=\"button\" aria-label=\"Toggle navigation\" aria-expanded=\"false\">\\n            <svg height=\"24\" class=\"octicon octicon-three-bars text-white\" viewBox=\"0 0 16 16\" version=\"1.1\" width=\"24\" aria-hidden=\"true\"><path fill-rule=\"evenodd\" d=\"M1 2.75A.75.75 0 011.75 2h12.5a.75.75 0 110 1.5H1.75A.75.75 0 011 2.75zm0 5A.75.75 0 011.75 7h12.5a.75.75 0 110 1.5H1.75A.75.75 0 011 7.75zM1.75 12a.75.75 0 100 1.5h12.5a.75.75 0 100-1.5H1.75z\"></path></svg>\\n          </button>\\n        </div>\\n    </div>\\n\\n    <div class=\"HeaderMenu HeaderMenu--logged-out position-fixed top-0 right-0 bottom-0 height-fit position-lg-relative d-lg-flex flex-justify-between flex-items-center flex-auto\">\\n      <div class=\"d-flex d-lg-none flex-justify-end border-bottom bg-gray-light p-3\">\\n        <button class=\"btn-link js-details-target\" type=\"button\" aria-label=\"Toggle navigation\" aria-expanded=\"false\">\\n          <svg height=\"24\" class=\"octicon octicon-x text-gray\" viewBox=\"0 0 24 24\" version=\"1.1\" width=\"24\" aria-hidden=\"true\"><path fill-rule=\"evenodd\" d=\"M5.72 5.72a.75.75 0 011.06 0L12 10.94l5.22-5.22a.75.75 0 111.06 1.06L13.06 12l5.22 5.22a.75.75 0 11-1.06 1.06L12 13.06l-5.22 5.22a.75.75 0 01-1.06-1.06L10.94 12 5.72 6.78a.75.75 0 010-1.06z\"></path></svg>\\n        </button>\\n      </div>\\n\\n        <nav class=\"mt-0 px-3 px-lg-0 mb-5 mb-lg-0\" aria-label=\"Global\">\\n          <ul class=\"d-lg-flex list-style-none\">\\n              <li class=\"d-block d-lg-flex flex-lg-nowrap flex-lg-items-center border-bottom border-lg-bottom-0 mr-0 mr-lg-3 edge-item-fix position-relative flex-wrap flex-justify-between d-flex flex-items-center \">\\n                <details class=\"HeaderMenu-details details-overlay details-reset width-full\">\\n                  <summary class=\"HeaderMenu-summary HeaderMenu-link px-0 py-3 border-0 no-wrap d-block d-lg-inline-block\">\\n                    Why GitHub?\\n                    <svg x=\"0px\" y=\"0px\" viewBox=\"0 0 14 8\" xml:space=\"preserve\" fill=\"none\" class=\"icon-chevon-down-mktg position-absolute position-lg-relative\">\\n                      <path d=\"M1,1l6.2,6L13,1\"></path>\\n                    </svg>\\n                  </summary>\\n                  <div class=\"dropdown-menu flex-auto rounded-1 bg-white px-0 mt-0 pb-4 p-lg-4 position-relative position-lg-absolute left-0 left-lg-n4\">\\n                    <a href=\"/features\" class=\"py-2 lh-condensed-ultra d-block link-gray-dark no-underline h5 Bump-link--hover\" data-ga-click=\"(Logged out) Header, go to Features\">Features <span class=\"Bump-link-symbol float-right text-normal text-gray-light\">&rarr;</span></a>\\n                    <ul class=\"list-style-none f5 pb-3\">\\n                      <li class=\"edge-item-fix\"><a href=\"/features/code-review/\" class=\"py-2 lh-condensed-ultra d-block link-gray no-underline f5\" data-ga-click=\"(Logged out) Header, go to Code review\">Code review</a></li>\\n                      <li class=\"edge-item-fix\"><a href=\"/features/project-management/\" class=\"py-2 lh-condensed-ultra d-block link-gray no-underline f5\" data-ga-click=\"(Logged out) Header, go to Project management\">Project management</a></li>\\n                      <li class=\"edge-item-fix\"><a href=\"/features/integrations\" class=\"py-2 lh-condensed-ultra d-block link-gray no-underline f5\" data-ga-click=\"(Logged out) Header, go to Integrations\">Integrations</a></li>\\n                      <li class=\"edge-item-fix\"><a href=\"/features/actions\" class=\"py-2 lh-condensed-ultra d-block link-gray no-underline f5\" data-ga-click=\"(Logged out) Header, go to Actions\">Actions</a></li>\\n                      <li class=\"edge-item-fix\"><a href=\"/features/packages\" class=\"py-2 lh-condensed-ultra d-block link-gray no-underline f5\" data-ga-click=\"(Logged out) Header, go to GitHub Packages\">Packages</a></li>\\n                      <li class=\"edge-item-fix\"><a href=\"/features/security\" class=\"py-2 lh-condensed-ultra d-block link-gray no-underline f5\" data-ga-click=\"(Logged out) Header, go to Security\">Security</a></li>\\n                      <li class=\"edge-item-fix\"><a href=\"/features#team-management\" class=\"py-2 lh-condensed-ultra d-block link-gray no-underline f5\" data-ga-click=\"(Logged out) Header, go to Team management\">Team management</a></li>\\n                      <li class=\"edge-item-fix\"><a href=\"/features#hosting\" class=\"py-2 lh-condensed-ultra d-block link-gray no-underline f5\" data-ga-click=\"(Logged out) Header, go to Code hosting\">Hosting</a></li>\\n                      <li class=\"edge-item-fix hide-xl\"><a href=\"/mobile\" class=\"py-2 lh-condensed-ultra d-block link-gray no-underline f5\" data-ga-click=\"(Logged out) Header, go to Mobile\">Mobile</a></li>\\n                    </ul>\\n\\n                    <ul class=\"list-style-none mb-0 border-lg-top pt-lg-3\">\\n                      <li class=\"edge-item-fix\"><a href=\"/customer-stories\" class=\"py-2 lh-condensed-ultra d-block no-underline link-gray-dark no-underline h5 Bump-link--hover\" data-ga-click=\"(Logged out) Header, go to Customer stories\">Customer stories <span class=\"Bump-link-symbol float-right text-normal text-gray-light\">&rarr;</span></a></li>\\n                      <li class=\"edge-item-fix\"><a href=\"/security\" class=\"py-2 lh-condensed-ultra d-block no-underline link-gray-dark no-underline h5 Bump-link--hover\" data-ga-click=\"(Logged out) Header, go to Security\">Security <span class=\"Bump-link-symbol float-right text-normal text-gray-light\">&rarr;</span></a></li>\\n                    </ul>\\n                  </div>\\n                </details>\\n              </li>\\n              <li class=\"border-bottom border-lg-bottom-0 mr-0 mr-lg-3\">\\n                <a href=\"/team\" class=\"HeaderMenu-link no-underline py-3 d-block d-lg-inline-block\" data-ga-click=\"(Logged out) Header, go to Team\">Team</a>\\n              </li>\\n              <li class=\"border-bottom border-lg-bottom-0 mr-0 mr-lg-3\">\\n                <a href=\"/enterprise\" class=\"HeaderMenu-link no-underline py-3 d-block d-lg-inline-block\" data-ga-click=\"(Logged out) Header, go to Enterprise\">Enterprise</a>\\n              </li>\\n\\n              <li class=\"d-block d-lg-flex flex-lg-nowrap flex-lg-items-center border-bottom border-lg-bottom-0 mr-0 mr-lg-3 edge-item-fix position-relative flex-wrap flex-justify-between d-flex flex-items-center \">\\n                <details class=\"HeaderMenu-details details-overlay details-reset width-full\">\\n                  <summary class=\"HeaderMenu-summary HeaderMenu-link px-0 py-3 border-0 no-wrap d-block d-lg-inline-block\">\\n                    Explore\\n                    <svg x=\"0px\" y=\"0px\" viewBox=\"0 0 14 8\" xml:space=\"preserve\" fill=\"none\" class=\"icon-chevon-down-mktg position-absolute position-lg-relative\">\\n                      <path d=\"M1,1l6.2,6L13,1\"></path>\\n                    </svg>\\n                  </summary>\\n\\n                  <div class=\"dropdown-menu flex-auto rounded-1 bg-white px-0 pt-2 pb-0 mt-0 pb-4 p-lg-4 position-relative position-lg-absolute left-0 left-lg-n4\">\\n                    <ul class=\"list-style-none mb-3\">\\n                      <li class=\"edge-item-fix\"><a href=\"/explore\" class=\"py-2 lh-condensed-ultra d-block link-gray-dark no-underline h5 Bump-link--hover\" data-ga-click=\"(Logged out) Header, go to Explore\">Explore GitHub <span class=\"Bump-link-symbol float-right text-normal text-gray-light\">&rarr;</span></a></li>\\n                    </ul>\\n\\n                    <h4 class=\"text-gray-light text-normal text-mono f5 mb-2 border-lg-top pt-lg-3\">Learn &amp; contribute</h4>\\n                    <ul class=\"list-style-none mb-3\">\\n                      <li class=\"edge-item-fix\"><a href=\"/topics\" class=\"py-2 lh-condensed-ultra d-block link-gray no-underline f5\" data-ga-click=\"(Logged out) Header, go to Topics\">Topics</a></li>\\n                        <li class=\"edge-item-fix\"><a href=\"/collections\" class=\"py-2 lh-condensed-ultra d-block link-gray no-underline f5\" data-ga-click=\"(Logged out) Header, go to Collections\">Collections</a></li>\\n                      <li class=\"edge-item-fix\"><a href=\"/trending\" class=\"py-2 lh-condensed-ultra d-block link-gray no-underline f5\" data-ga-click=\"(Logged out) Header, go to Trending\">Trending</a></li>\\n                      <li class=\"edge-item-fix\"><a href=\"https://lab.github.com/\" class=\"py-2 lh-condensed-ultra d-block link-gray no-underline f5\" data-ga-click=\"(Logged out) Header, go to Learning lab\">Learning Lab</a></li>\\n                      <li class=\"edge-item-fix\"><a href=\"https://opensource.guide\" class=\"py-2 lh-condensed-ultra d-block link-gray no-underline f5\" data-ga-click=\"(Logged out) Header, go to Open source guides\">Open source guides</a></li>\\n                    </ul>\\n\\n                    <h4 class=\"text-gray-light text-normal text-mono f5 mb-2 border-lg-top pt-lg-3\">Connect with others</h4>\\n                    <ul class=\"list-style-none mb-0\">\\n                      <li class=\"edge-item-fix\"><a href=\"https://github.com/events\" class=\"py-2 lh-condensed-ultra d-block link-gray no-underline f5\" data-ga-click=\"(Logged out) Header, go to Events\">Events</a></li>\\n                      <li class=\"edge-item-fix\"><a href=\"https://github.community\" class=\"py-2 lh-condensed-ultra d-block link-gray no-underline f5\" data-ga-click=\"(Logged out) Header, go to Community forum\">Community forum</a></li>\\n                      <li class=\"edge-item-fix\"><a href=\"https://education.github.com\" class=\"py-2 lh-condensed-ultra d-block link-gray no-underline f5\" data-ga-click=\"(Logged out) Header, go to GitHub Education\">GitHub Education</a></li>\\n                      <li class=\"edge-item-fix\"><a href=\"https://stars.github.com\" class=\"py-2 pb-0 lh-condensed-ultra d-block link-gray no-underline f5\" data-ga-click=\"(Logged out) Header, go to GitHub Stars Program\">GitHub Stars program</a></li>\\n                    </ul>\\n                  </div>\\n                </details>\\n              </li>\\n\\n              <li class=\"border-bottom border-lg-bottom-0 mr-0 mr-lg-3\">\\n                <a href=\"/marketplace\" class=\"HeaderMenu-link no-underline py-3 d-block d-lg-inline-block\" data-ga-click=\"(Logged out) Header, go to Marketplace\">Marketplace</a>\\n              </li>\\n\\n              <li class=\"d-block d-lg-flex flex-lg-nowrap flex-lg-items-center border-bottom border-lg-bottom-0 mr-0 mr-lg-3 edge-item-fix position-relative flex-wrap flex-justify-between d-flex flex-items-center \">\\n                <details class=\"HeaderMenu-details details-overlay details-reset width-full\">\\n                  <summary class=\"HeaderMenu-summary HeaderMenu-link px-0 py-3 border-0 no-wrap d-block d-lg-inline-block\">\\n                    Pricing\\n                    <svg x=\"0px\" y=\"0px\" viewBox=\"0 0 14 8\" xml:space=\"preserve\" fill=\"none\" class=\"icon-chevon-down-mktg position-absolute position-lg-relative\">\\n                       <path d=\"M1,1l6.2,6L13,1\"></path>\\n                    </svg>\\n                  </summary>\\n\\n                  <div class=\"dropdown-menu flex-auto rounded-1 bg-white px-0 pt-2 pb-4 mt-0 p-lg-4 position-relative position-lg-absolute left-0 left-lg-n4\">\\n                    <a href=\"/pricing\" class=\"pb-2 lh-condensed-ultra d-block link-gray-dark no-underline h5 Bump-link--hover\" data-ga-click=\"(Logged out) Header, go to Pricing\">Plans <span class=\"Bump-link-symbol float-right text-normal text-gray-light\">&rarr;</span></a>\\n\\n                    <ul class=\"list-style-none mb-3\">\\n                      <li class=\"edge-item-fix\"><a href=\"/pricing#feature-comparison\" class=\"py-2 lh-condensed-ultra d-block link-gray no-underline f5\" data-ga-click=\"(Logged out) Header, go to Compare plans\">Compare plans</a></li>\\n                      <li class=\"edge-item-fix\"><a href=\"https://enterprise.github.com/contact\" class=\"py-2 lh-condensed-ultra d-block link-gray no-underline f5\" data-ga-click=\"(Logged out) Header, go to Contact Sales\">Contact Sales</a></li>\\n                    </ul>\\n\\n                    <ul class=\"list-style-none mb-0 border-lg-top pt-lg-3\">\\n                      <li class=\"edge-item-fix\"><a href=\"/nonprofit\" class=\"py-2 lh-condensed-ultra d-block no-underline link-gray-dark no-underline h5 Bump-link--hover\" data-ga-click=\"(Logged out) Header, go to Nonprofits\">Nonprofit <span class=\"Bump-link-symbol float-right text-normal text-gray-light\">&rarr;</span></a></li>\\n                      <li class=\"edge-item-fix\"><a href=\"https://education.github.com\" class=\"py-2 pb-0 lh-condensed-ultra d-block no-underline link-gray-dark no-underline h5 Bump-link--hover\"  data-ga-click=\"(Logged out) Header, go to Education\">Education <span class=\"Bump-link-symbol float-right text-normal text-gray-light\">&rarr;</span></a></li>\\n                    </ul>\\n                  </div>\\n                </details>\\n              </li>\\n          </ul>\\n        </nav>\\n\\n      <div class=\"d-lg-flex flex-items-center px-3 px-lg-0 text-center text-lg-left\">\\n          <div class=\"d-lg-flex mb-3 mb-lg-0\">\\n            <div class=\"header-search flex-auto js-site-search position-relative flex-self-stretch flex-md-self-auto mb-3 mb-md-0 mr-0 mr-md-3 scoped-search site-scoped-search js-jump-to\"\\n  role=\"combobox\"\\n  aria-owns=\"jump-to-results\"\\n  aria-label=\"Search or jump to\"\\n  aria-haspopup=\"listbox\"\\n  aria-expanded=\"false\"\\n>\\n  <div class=\"position-relative\">\\n    <!-- \\'\"` --><!-- </textarea></xmp> --></option></form><form class=\"js-site-search-form\" role=\"search\" aria-label=\"Site\" data-flagged-in=\"false\" data-scope-type=\"Repository\" data-scope-id=\"323672651\" data-scoped-search-url=\"/paletinaveena/Gmail-Registration/search\" data-owner-scoped-search-url=\"/users/paletinaveena/search\" data-unscoped-search-url=\"/search\" action=\"/paletinaveena/Gmail-Registration/search\" accept-charset=\"UTF-8\" method=\"get\">\\n      <label class=\"form-control input-sm header-search-wrapper p-0 js-chromeless-input-container header-search-wrapper-jump-to position-relative d-flex flex-justify-between flex-items-center\">\\n        <input type=\"text\"\\n          class=\"form-control input-sm header-search-input jump-to-field js-jump-to-field js-site-search-focus js-site-search-field is-clearable\"\\n          data-hotkey=\"s,/\"\\n          name=\"q\"\\n          value=\"\"\\n          placeholder=\"Search\"\\n          data-unscoped-placeholder=\"Search GitHub\"\\n          data-scoped-placeholder=\"Search\"\\n          autocapitalize=\"off\"\\n          aria-autocomplete=\"list\"\\n          aria-controls=\"jump-to-results\"\\n          aria-label=\"Search\"\\n          data-jump-to-suggestions-path=\"/_graphql/GetSuggestedNavigationDestinations\"\\n          spellcheck=\"false\"\\n          autocomplete=\"off\"\\n          >\\n          <input type=\"hidden\" data-csrf=\"true\" class=\"js-data-jump-to-suggestions-path-csrf\" value=\"FAvoaQEtz90VcKFgXNgalqGlgVUPSmceZ+ZGqzPU+DT+gbQfcUYfoA3p/OU3sl+lukgrS+lttZG+3h65U9+s/A==\" />\\n          <input type=\"hidden\" class=\"js-site-search-type-field\" name=\"type\" >\\n            <img src=\"https://github.githubassets.com/images/search-key-slash.svg\" alt=\"\" class=\"mr-2 header-search-key-slash\">\\n\\n            <div class=\"Box position-absolute overflow-hidden d-none jump-to-suggestions js-jump-to-suggestions-container\">\\n              \\n<ul class=\"d-none js-jump-to-suggestions-template-container\">\\n  \\n\\n<li class=\"d-flex flex-justify-start flex-items-center p-0 f5 navigation-item js-navigation-item js-jump-to-suggestion\" role=\"option\">\\n  <a tabindex=\"-1\" class=\"no-underline d-flex flex-auto flex-items-center jump-to-suggestions-path js-jump-to-suggestion-path js-navigation-open p-2\" href=\"\" data-item-type=\"suggestion\">\\n    <div class=\"jump-to-octicon js-jump-to-octicon flex-shrink-0 mr-2 text-center d-none\">\\n      <svg height=\"16\" width=\"16\" class=\"octicon octicon-repo flex-shrink-0 js-jump-to-octicon-repo d-none\" title=\"Repository\" aria-label=\"Repository\" viewBox=\"0 0 16 16\" version=\"1.1\" role=\"img\"><path fill-rule=\"evenodd\" d=\"M2 2.5A2.5 2.5 0 014.5 0h8.75a.75.75 0 01.75.75v12.5a.75.75 0 01-.75.75h-2.5a.75.75 0 110-1.5h1.75v-2h-8a1 1 0 00-.714 1.7.75.75 0 01-1.072 1.05A2.495 2.495 0 012 11.5v-9zm10.5-1V9h-8c-.356 0-.694.074-1 .208V2.5a1 1 0 011-1h8zM5 12.25v3.25a.25.25 0 00.4.2l1.45-1.087a.25.25 0 01.3 0L8.6 15.7a.25.25 0 00.4-.2v-3.25a.25.25 0 00-.25-.25h-3.5a.25.25 0 00-.25.25z\"></path></svg>\\n      <svg height=\"16\" width=\"16\" class=\"octicon octicon-project flex-shrink-0 js-jump-to-octicon-project d-none\" title=\"Project\" aria-label=\"Project\" viewBox=\"0 0 16 16\" version=\"1.1\" role=\"img\"><path fill-rule=\"evenodd\" d=\"M1.75 0A1.75 1.75 0 000 1.75v12.5C0 15.216.784 16 1.75 16h12.5A1.75 1.75 0 0016 14.25V1.75A1.75 1.75 0 0014.25 0H1.75zM1.5 1.75a.25.25 0 01.25-.25h12.5a.25.25 0 01.25.25v12.5a.25.25 0 01-.25.25H1.75a.25.25 0 01-.25-.25V1.75zM11.75 3a.75.75 0 00-.75.75v7.5a.75.75 0 001.5 0v-7.5a.75.75 0 00-.75-.75zm-8.25.75a.75.75 0 011.5 0v5.5a.75.75 0 01-1.5 0v-5.5zM8 3a.75.75 0 00-.75.75v3.5a.75.75 0 001.5 0v-3.5A.75.75 0 008 3z\"></path></svg>\\n      <svg height=\"16\" width=\"16\" class=\"octicon octicon-search flex-shrink-0 js-jump-to-octicon-search d-none\" title=\"Search\" aria-label=\"Search\" viewBox=\"0 0 16 16\" version=\"1.1\" role=\"img\"><path fill-rule=\"evenodd\" d=\"M11.5 7a4.499 4.499 0 11-8.998 0A4.499 4.499 0 0111.5 7zm-.82 4.74a6 6 0 111.06-1.06l3.04 3.04a.75.75 0 11-1.06 1.06l-3.04-3.04z\"></path></svg>\\n    </div>\\n\\n    <img class=\"avatar mr-2 flex-shrink-0 js-jump-to-suggestion-avatar d-none\" alt=\"\" aria-label=\"Team\" src=\"\" width=\"28\" height=\"28\">\\n\\n    <div class=\"jump-to-suggestion-name js-jump-to-suggestion-name flex-auto overflow-hidden text-left no-wrap css-truncate css-truncate-target\">\\n    </div>\\n\\n    <div class=\"border rounded-1 flex-shrink-0 bg-gray px-1 text-gray-light ml-1 f6 d-none js-jump-to-badge-search\">\\n      <span class=\"js-jump-to-badge-search-text-default d-none\" aria-label=\"in this repository\">\\n        In this repository\\n      </span>\\n      <span class=\"js-jump-to-badge-search-text-global d-none\" aria-label=\"in all of GitHub\">\\n        All GitHub\\n      </span>\\n      <span aria-hidden=\"true\" class=\"d-inline-block ml-1 v-align-middle\">\\xe2\\x86\\xb5</span>\\n    </div>\\n\\n    <div aria-hidden=\"true\" class=\"border rounded-1 flex-shrink-0 bg-gray px-1 text-gray-light ml-1 f6 d-none d-on-nav-focus js-jump-to-badge-jump\">\\n      Jump to\\n      <span class=\"d-inline-block ml-1 v-align-middle\">\\xe2\\x86\\xb5</span>\\n    </div>\\n  </a>\\n</li>\\n\\n</ul>\\n\\n<ul class=\"d-none js-jump-to-no-results-template-container\">\\n  <li class=\"d-flex flex-justify-center flex-items-center f5 d-none js-jump-to-suggestion p-2\">\\n    <span class=\"text-gray\">No suggested jump to results</span>\\n  </li>\\n</ul>\\n\\n<ul id=\"jump-to-results\" role=\"listbox\" class=\"p-0 m-0 js-navigation-container jump-to-suggestions-results-container js-jump-to-suggestions-results-container\">\\n  \\n\\n<li class=\"d-flex flex-justify-start flex-items-center p-0 f5 navigation-item js-navigation-item js-jump-to-scoped-search d-none\" role=\"option\">\\n  <a tabindex=\"-1\" class=\"no-underline d-flex flex-auto flex-items-center jump-to-suggestions-path js-jump-to-suggestion-path js-navigation-open p-2\" href=\"\" data-item-type=\"scoped_search\">\\n    <div class=\"jump-to-octicon js-jump-to-octicon flex-shrink-0 mr-2 text-center d-none\">\\n      <svg height=\"16\" width=\"16\" class=\"octicon octicon-repo flex-shrink-0 js-jump-to-octicon-repo d-none\" title=\"Repository\" aria-label=\"Repository\" viewBox=\"0 0 16 16\" version=\"1.1\" role=\"img\"><path fill-rule=\"evenodd\" d=\"M2 2.5A2.5 2.5 0 014.5 0h8.75a.75.75 0 01.75.75v12.5a.75.75 0 01-.75.75h-2.5a.75.75 0 110-1.5h1.75v-2h-8a1 1 0 00-.714 1.7.75.75 0 01-1.072 1.05A2.495 2.495 0 012 11.5v-9zm10.5-1V9h-8c-.356 0-.694.074-1 .208V2.5a1 1 0 011-1h8zM5 12.25v3.25a.25.25 0 00.4.2l1.45-1.087a.25.25 0 01.3 0L8.6 15.7a.25.25 0 00.4-.2v-3.25a.25.25 0 00-.25-.25h-3.5a.25.25 0 00-.25.25z\"></path></svg>\\n      <svg height=\"16\" width=\"16\" class=\"octicon octicon-project flex-shrink-0 js-jump-to-octicon-project d-none\" title=\"Project\" aria-label=\"Project\" viewBox=\"0 0 16 16\" version=\"1.1\" role=\"img\"><path fill-rule=\"evenodd\" d=\"M1.75 0A1.75 1.75 0 000 1.75v12.5C0 15.216.784 16 1.75 16h12.5A1.75 1.75 0 0016 14.25V1.75A1.75 1.75 0 0014.25 0H1.75zM1.5 1.75a.25.25 0 01.25-.25h12.5a.25.25 0 01.25.25v12.5a.25.25 0 01-.25.25H1.75a.25.25 0 01-.25-.25V1.75zM11.75 3a.75.75 0 00-.75.75v7.5a.75.75 0 001.5 0v-7.5a.75.75 0 00-.75-.75zm-8.25.75a.75.75 0 011.5 0v5.5a.75.75 0 01-1.5 0v-5.5zM8 3a.75.75 0 00-.75.75v3.5a.75.75 0 001.5 0v-3.5A.75.75 0 008 3z\"></path></svg>\\n      <svg height=\"16\" width=\"16\" class=\"octicon octicon-search flex-shrink-0 js-jump-to-octicon-search d-none\" title=\"Search\" aria-label=\"Search\" viewBox=\"0 0 16 16\" version=\"1.1\" role=\"img\"><path fill-rule=\"evenodd\" d=\"M11.5 7a4.499 4.499 0 11-8.998 0A4.499 4.499 0 0111.5 7zm-.82 4.74a6 6 0 111.06-1.06l3.04 3.04a.75.75 0 11-1.06 1.06l-3.04-3.04z\"></path></svg>\\n    </div>\\n\\n    <img class=\"avatar mr-2 flex-shrink-0 js-jump-to-suggestion-avatar d-none\" alt=\"\" aria-label=\"Team\" src=\"\" width=\"28\" height=\"28\">\\n\\n    <div class=\"jump-to-suggestion-name js-jump-to-suggestion-name flex-auto overflow-hidden text-left no-wrap css-truncate css-truncate-target\">\\n    </div>\\n\\n    <div class=\"border rounded-1 flex-shrink-0 bg-gray px-1 text-gray-light ml-1 f6 d-none js-jump-to-badge-search\">\\n      <span class=\"js-jump-to-badge-search-text-default d-none\" aria-label=\"in this repository\">\\n        In this repository\\n      </span>\\n      <span class=\"js-jump-to-badge-search-text-global d-none\" aria-label=\"in all of GitHub\">\\n        All GitHub\\n      </span>\\n      <span aria-hidden=\"true\" class=\"d-inline-block ml-1 v-align-middle\">\\xe2\\x86\\xb5</span>\\n    </div>\\n\\n    <div aria-hidden=\"true\" class=\"border rounded-1 flex-shrink-0 bg-gray px-1 text-gray-light ml-1 f6 d-none d-on-nav-focus js-jump-to-badge-jump\">\\n      Jump to\\n      <span class=\"d-inline-block ml-1 v-align-middle\">\\xe2\\x86\\xb5</span>\\n    </div>\\n  </a>\\n</li>\\n\\n  \\n\\n<li class=\"d-flex flex-justify-start flex-items-center p-0 f5 navigation-item js-navigation-item js-jump-to-global-search d-none\" role=\"option\">\\n  <a tabindex=\"-1\" class=\"no-underline d-flex flex-auto flex-items-center jump-to-suggestions-path js-jump-to-suggestion-path js-navigation-open p-2\" href=\"\" data-item-type=\"global_search\">\\n    <div class=\"jump-to-octicon js-jump-to-octicon flex-shrink-0 mr-2 text-center d-none\">\\n      <svg height=\"16\" width=\"16\" class=\"octicon octicon-repo flex-shrink-0 js-jump-to-octicon-repo d-none\" title=\"Repository\" aria-label=\"Repository\" viewBox=\"0 0 16 16\" version=\"1.1\" role=\"img\"><path fill-rule=\"evenodd\" d=\"M2 2.5A2.5 2.5 0 014.5 0h8.75a.75.75 0 01.75.75v12.5a.75.75 0 01-.75.75h-2.5a.75.75 0 110-1.5h1.75v-2h-8a1 1 0 00-.714 1.7.75.75 0 01-1.072 1.05A2.495 2.495 0 012 11.5v-9zm10.5-1V9h-8c-.356 0-.694.074-1 .208V2.5a1 1 0 011-1h8zM5 12.25v3.25a.25.25 0 00.4.2l1.45-1.087a.25.25 0 01.3 0L8.6 15.7a.25.25 0 00.4-.2v-3.25a.25.25 0 00-.25-.25h-3.5a.25.25 0 00-.25.25z\"></path></svg>\\n      <svg height=\"16\" width=\"16\" class=\"octicon octicon-project flex-shrink-0 js-jump-to-octicon-project d-none\" title=\"Project\" aria-label=\"Project\" viewBox=\"0 0 16 16\" version=\"1.1\" role=\"img\"><path fill-rule=\"evenodd\" d=\"M1.75 0A1.75 1.75 0 000 1.75v12.5C0 15.216.784 16 1.75 16h12.5A1.75 1.75 0 0016 14.25V1.75A1.75 1.75 0 0014.25 0H1.75zM1.5 1.75a.25.25 0 01.25-.25h12.5a.25.25 0 01.25.25v12.5a.25.25 0 01-.25.25H1.75a.25.25 0 01-.25-.25V1.75zM11.75 3a.75.75 0 00-.75.75v7.5a.75.75 0 001.5 0v-7.5a.75.75 0 00-.75-.75zm-8.25.75a.75.75 0 011.5 0v5.5a.75.75 0 01-1.5 0v-5.5zM8 3a.75.75 0 00-.75.75v3.5a.75.75 0 001.5 0v-3.5A.75.75 0 008 3z\"></path></svg>\\n      <svg height=\"16\" width=\"16\" class=\"octicon octicon-search flex-shrink-0 js-jump-to-octicon-search d-none\" title=\"Search\" aria-label=\"Search\" viewBox=\"0 0 16 16\" version=\"1.1\" role=\"img\"><path fill-rule=\"evenodd\" d=\"M11.5 7a4.499 4.499 0 11-8.998 0A4.499 4.499 0 0111.5 7zm-.82 4.74a6 6 0 111.06-1.06l3.04 3.04a.75.75 0 11-1.06 1.06l-3.04-3.04z\"></path></svg>\\n    </div>\\n\\n    <img class=\"avatar mr-2 flex-shrink-0 js-jump-to-suggestion-avatar d-none\" alt=\"\" aria-label=\"Team\" src=\"\" width=\"28\" height=\"28\">\\n\\n    <div class=\"jump-to-suggestion-name js-jump-to-suggestion-name flex-auto overflow-hidden text-left no-wrap css-truncate css-truncate-target\">\\n    </div>\\n\\n    <div class=\"border rounded-1 flex-shrink-0 bg-gray px-1 text-gray-light ml-1 f6 d-none js-jump-to-badge-search\">\\n      <span class=\"js-jump-to-badge-search-text-default d-none\" aria-label=\"in this repository\">\\n        In this repository\\n      </span>\\n      <span class=\"js-jump-to-badge-search-text-global d-none\" aria-label=\"in all of GitHub\">\\n        All GitHub\\n      </span>\\n      <span aria-hidden=\"true\" class=\"d-inline-block ml-1 v-align-middle\">\\xe2\\x86\\xb5</span>\\n    </div>\\n\\n    <div aria-hidden=\"true\" class=\"border rounded-1 flex-shrink-0 bg-gray px-1 text-gray-light ml-1 f6 d-none d-on-nav-focus js-jump-to-badge-jump\">\\n      Jump to\\n      <span class=\"d-inline-block ml-1 v-align-middle\">\\xe2\\x86\\xb5</span>\\n    </div>\\n  </a>\\n</li>\\n\\n\\n</ul>\\n\\n            </div>\\n      </label>\\n</form>  </div>\\n</div>\\n\\n          </div>\\n\\n        <a href=\"/login?return_to=%2Fpaletinaveena%2FGmail-Registration%2Fblob%2Fmain%2Fmail-data.csv\"\\n          class=\"HeaderMenu-link no-underline mr-3\"\\n          data-hydro-click=\"{&quot;event_type&quot;:&quot;authentication.click&quot;,&quot;payload&quot;:{&quot;location_in_page&quot;:&quot;site header menu&quot;,&quot;repository_id&quot;:null,&quot;auth_type&quot;:&quot;SIGN_UP&quot;,&quot;originating_url&quot;:&quot;https://github.com/paletinaveena/Gmail-Registration/blob/main/mail-data.csv&quot;,&quot;user_id&quot;:null}}\" data-hydro-click-hmac=\"d3827588737e07ae7da37a42ebe6ecad55323c91b868fd5359c200d72f38b369\"\\n          data-ga-click=\"(Logged out) Header, clicked Sign in, text:sign-in\">\\n          Sign&nbsp;in\\n        </a>\\n            <a href=\"/join?ref_cta=Sign+up&amp;ref_loc=header+logged+out&amp;ref_page=%2F%3Cuser-name%3E%2F%3Crepo-name%3E%2Fblob%2Fshow&amp;source=header-repo&amp;source_repo=paletinaveena%2FGmail-Registration\"\\n              class=\"HeaderMenu-link d-inline-block no-underline border border-gray-dark rounded-1 px-2 py-1\"\\n              data-hydro-click=\"{&quot;event_type&quot;:&quot;authentication.click&quot;,&quot;payload&quot;:{&quot;location_in_page&quot;:&quot;site header menu&quot;,&quot;repository_id&quot;:null,&quot;auth_type&quot;:&quot;SIGN_UP&quot;,&quot;originating_url&quot;:&quot;https://github.com/paletinaveena/Gmail-Registration/blob/main/mail-data.csv&quot;,&quot;user_id&quot;:null}}\" data-hydro-click-hmac=\"d3827588737e07ae7da37a42ebe6ecad55323c91b868fd5359c200d72f38b369\"\\n              data-ga-click=\"Sign up, click to sign up for account, ref_page:/&lt;user-name&gt;/&lt;repo-name&gt;/blob/show;ref_cta:Sign up;ref_loc:header logged out\">\\n              Sign&nbsp;up\\n            </a>\\n      </div>\\n    </div>\\n  </div>\\n</header>\\n\\n    </div>\\n\\n  <div id=\"start-of-content\" class=\"show-on-focus\"></div>\\n\\n\\n\\n\\n\\n    <div data-pjax-replace id=\"js-flash-container\">\\n\\n\\n  <template class=\"js-flash-template\">\\n    <div class=\"flash flash-full  {{ className }}\">\\n  <div class=\" px-2\" >\\n    <button class=\"flash-close js-flash-close\" type=\"button\" aria-label=\"Dismiss this message\">\\n      <svg class=\"octicon octicon-x\" viewBox=\"0 0 16 16\" version=\"1.1\" width=\"16\" height=\"16\" aria-hidden=\"true\"><path fill-rule=\"evenodd\" d=\"M3.72 3.72a.75.75 0 011.06 0L8 6.94l3.22-3.22a.75.75 0 111.06 1.06L9.06 8l3.22 3.22a.75.75 0 11-1.06 1.06L8 9.06l-3.22 3.22a.75.75 0 01-1.06-1.06L6.94 8 3.72 4.78a.75.75 0 010-1.06z\"></path></svg>\\n    </button>\\n    \\n      <div>{{ message }}</div>\\n\\n  </div>\\n</div>\\n  </template>\\n</div>\\n\\n\\n    \\n\\n  <include-fragment class=\"js-notification-shelf-include-fragment\" data-base-src=\"https://github.com/notifications/beta/shelf\"></include-fragment>\\n\\n\\n\\n\\n  <div\\n    class=\"application-main \"\\n    data-commit-hovercards-enabled\\n    data-discussion-hovercards-enabled\\n    data-issue-and-pr-hovercards-enabled\\n  >\\n        <div itemscope itemtype=\"http://schema.org/SoftwareSourceCode\" class=\"\">\\n    <main id=\"js-repo-pjax-container\" data-pjax-container >\\n      \\n\\n    \\n\\n\\n\\n\\n\\n\\n  \\n\\n\\n  <div class=\"bg-gray-light pt-3 hide-full-screen mb-5\">\\n\\n      <div class=\"d-flex mb-3 px-3 px-md-4 px-lg-5\">\\n\\n        <div class=\"flex-auto min-width-0 width-fit mr-3\">\\n            <h1 class=\" d-flex flex-wrap flex-items-center break-word f3 text-normal\">\\n    <svg class=\"octicon octicon-repo text-gray mr-2\" viewBox=\"0 0 16 16\" version=\"1.1\" width=\"16\" height=\"16\" aria-hidden=\"true\"><path fill-rule=\"evenodd\" d=\"M2 2.5A2.5 2.5 0 014.5 0h8.75a.75.75 0 01.75.75v12.5a.75.75 0 01-.75.75h-2.5a.75.75 0 110-1.5h1.75v-2h-8a1 1 0 00-.714 1.7.75.75 0 01-1.072 1.05A2.495 2.495 0 012 11.5v-9zm10.5-1V9h-8c-.356 0-.694.074-1 .208V2.5a1 1 0 011-1h8zM5 12.25v3.25a.25.25 0 00.4.2l1.45-1.087a.25.25 0 01.3 0L8.6 15.7a.25.25 0 00.4-.2v-3.25a.25.25 0 00-.25-.25h-3.5a.25.25 0 00-.25.25z\"></path></svg>\\n    <span class=\"author flex-self-stretch\" itemprop=\"author\">\\n      <a class=\"url fn\" rel=\"author\" data-hovercard-type=\"user\" data-hovercard-url=\"/users/paletinaveena/hovercard\" data-octo-click=\"hovercard-link-click\" data-octo-dimensions=\"link_type:self\" href=\"/paletinaveena\">paletinaveena</a>\\n    </span>\\n    <span class=\"mx-1 flex-self-stretch color-text-secondary\">/</span>\\n  <strong itemprop=\"name\" class=\"mr-2 flex-self-stretch\">\\n    <a data-pjax=\"#js-repo-pjax-container\" class=\"\" href=\"/paletinaveena/Gmail-Registration\">Gmail-Registration</a>\\n  </strong>\\n  \\n</h1>\\n\\n\\n        </div>\\n\\n          <ul class=\"pagehead-actions flex-shrink-0 d-none d-md-inline\" style=\"padding: 2px 0;\">\\n\\n  <li>\\n          <a class=\"tooltipped tooltipped-s btn btn-sm btn-with-count\" aria-label=\"You must be signed in to watch a repository\" rel=\"nofollow\" data-hydro-click=\"{&quot;event_type&quot;:&quot;authentication.click&quot;,&quot;payload&quot;:{&quot;location_in_page&quot;:&quot;notification subscription menu watch&quot;,&quot;repository_id&quot;:null,&quot;auth_type&quot;:&quot;LOG_IN&quot;,&quot;originating_url&quot;:&quot;https://github.com/paletinaveena/Gmail-Registration/blob/main/mail-data.csv&quot;,&quot;user_id&quot;:null}}\" data-hydro-click-hmac=\"5921ac2203cb8623216238a415f8a031732880e0ac4d448d770166ba42de2615\" href=\"/login?return_to=%2Fpaletinaveena%2FGmail-Registration\">\\n    <svg class=\"octicon octicon-eye\" height=\"16\" viewBox=\"0 0 16 16\" version=\"1.1\" width=\"16\" aria-hidden=\"true\"><path fill-rule=\"evenodd\" d=\"M1.679 7.932c.412-.621 1.242-1.75 2.366-2.717C5.175 4.242 6.527 3.5 8 3.5c1.473 0 2.824.742 3.955 1.715 1.124.967 1.954 2.096 2.366 2.717a.119.119 0 010 .136c-.412.621-1.242 1.75-2.366 2.717C10.825 11.758 9.473 12.5 8 12.5c-1.473 0-2.824-.742-3.955-1.715C2.92 9.818 2.09 8.69 1.679 8.068a.119.119 0 010-.136zM8 2c-1.981 0-3.67.992-4.933 2.078C1.797 5.169.88 6.423.43 7.1a1.619 1.619 0 000 1.798c.45.678 1.367 1.932 2.637 3.024C4.329 13.008 6.019 14 8 14c1.981 0 3.67-.992 4.933-2.078 1.27-1.091 2.187-2.345 2.637-3.023a1.619 1.619 0 000-1.798c-.45-.678-1.367-1.932-2.637-3.023C11.671 2.992 9.981 2 8 2zm0 8a2 2 0 100-4 2 2 0 000 4z\"></path></svg>\\n    Watch\\n</a>    <a class=\"social-count\" href=\"/paletinaveena/Gmail-Registration/watchers\"\\n       aria-label=\"1 user is watching this repository\">\\n      1\\n    </a>\\n\\n  </li>\\n\\n  <li>\\n          <a class=\"btn btn-sm btn-with-count  tooltipped tooltipped-s\" aria-label=\"You must be signed in to star a repository\" rel=\"nofollow\" data-hydro-click=\"{&quot;event_type&quot;:&quot;authentication.click&quot;,&quot;payload&quot;:{&quot;location_in_page&quot;:&quot;star button&quot;,&quot;repository_id&quot;:323672651,&quot;auth_type&quot;:&quot;LOG_IN&quot;,&quot;originating_url&quot;:&quot;https://github.com/paletinaveena/Gmail-Registration/blob/main/mail-data.csv&quot;,&quot;user_id&quot;:null}}\" data-hydro-click-hmac=\"c116f27b2d4db9eb49285e0c02b986f02c480ef920632ae7485605d2596bfdd7\" href=\"/login?return_to=%2Fpaletinaveena%2FGmail-Registration\">\\n      <svg class=\"octicon octicon-star v-align-text-bottom mr-1\" height=\"16\" viewBox=\"0 0 16 16\" version=\"1.1\" width=\"16\" aria-hidden=\"true\"><path fill-rule=\"evenodd\" d=\"M8 .25a.75.75 0 01.673.418l1.882 3.815 4.21.612a.75.75 0 01.416 1.279l-3.046 2.97.719 4.192a.75.75 0 01-1.088.791L8 12.347l-3.766 1.98a.75.75 0 01-1.088-.79l.72-4.194L.818 6.374a.75.75 0 01.416-1.28l4.21-.611L7.327.668A.75.75 0 018 .25zm0 2.445L6.615 5.5a.75.75 0 01-.564.41l-3.097.45 2.24 2.184a.75.75 0 01.216.664l-.528 3.084 2.769-1.456a.75.75 0 01.698 0l2.77 1.456-.53-3.084a.75.75 0 01.216-.664l2.24-2.183-3.096-.45a.75.75 0 01-.564-.41L8 2.694v.001z\"></path></svg>\\n      <span>\\n        Star\\n</span></a>\\n    <a class=\"social-count js-social-count\" href=\"/paletinaveena/Gmail-Registration/stargazers\"\\n      aria-label=\"0 users starred this repository\">\\n      0\\n    </a>\\n\\n  </li>\\n\\n  <li>\\n        <a class=\"btn btn-sm btn-with-count tooltipped tooltipped-s\" aria-label=\"You must be signed in to fork a repository\" rel=\"nofollow\" data-hydro-click=\"{&quot;event_type&quot;:&quot;authentication.click&quot;,&quot;payload&quot;:{&quot;location_in_page&quot;:&quot;repo details fork button&quot;,&quot;repository_id&quot;:323672651,&quot;auth_type&quot;:&quot;LOG_IN&quot;,&quot;originating_url&quot;:&quot;https://github.com/paletinaveena/Gmail-Registration/blob/main/mail-data.csv&quot;,&quot;user_id&quot;:null}}\" data-hydro-click-hmac=\"9557b2bc7d7c4e9f9031bb64c5a331bbf31adefaa45e6f2fbed35be8f674d5ae\" href=\"/login?return_to=%2Fpaletinaveena%2FGmail-Registration\">\\n          <svg class=\"octicon octicon-repo-forked\" viewBox=\"0 0 16 16\" version=\"1.1\" width=\"16\" height=\"16\" aria-hidden=\"true\"><path fill-rule=\"evenodd\" d=\"M5 3.25a.75.75 0 11-1.5 0 .75.75 0 011.5 0zm0 2.122a2.25 2.25 0 10-1.5 0v.878A2.25 2.25 0 005.75 8.5h1.5v2.128a2.251 2.251 0 101.5 0V8.5h1.5a2.25 2.25 0 002.25-2.25v-.878a2.25 2.25 0 10-1.5 0v.878a.75.75 0 01-.75.75h-4.5A.75.75 0 015 6.25v-.878zm3.75 7.378a.75.75 0 11-1.5 0 .75.75 0 011.5 0zm3-8.75a.75.75 0 100-1.5.75.75 0 000 1.5z\"></path></svg>\\n          Fork\\n</a>\\n      <a href=\"/paletinaveena/Gmail-Registration/network/members\" class=\"social-count\"\\n         aria-label=\"0 users forked this repository\">\\n        0\\n      </a>\\n  </li>\\n</ul>\\n\\n      </div>\\n        \\n<nav aria-label=\"Repository\" data-pjax=\"#js-repo-pjax-container\" class=\"js-repo-nav js-sidenav-container-pjax js-responsive-underlinenav overflow-hidden UnderlineNav px-3 px-md-4 px-lg-5 bg-gray-light\">\\n  <ul class=\"UnderlineNav-body list-style-none \">\\n          <li class=\"d-flex\">\\n        <a class=\"js-selected-navigation-item selected UnderlineNav-item hx_underlinenav-item no-wrap js-responsive-underlinenav-item\" data-tab-item=\"i0code-tab\" data-hotkey=\"g c\" data-ga-click=\"Repository, Navigation click, Code tab\" aria-current=\"page\" data-selected-links=\"repo_source repo_downloads repo_commits repo_releases repo_tags repo_branches repo_packages repo_deployments /paletinaveena/Gmail-Registration\" href=\"/paletinaveena/Gmail-Registration\">\\n              <svg class=\"octicon octicon-code UnderlineNav-octicon d-none d-sm-inline\" height=\"16\" viewBox=\"0 0 16 16\" version=\"1.1\" width=\"16\" aria-hidden=\"true\"><path fill-rule=\"evenodd\" d=\"M4.72 3.22a.75.75 0 011.06 1.06L2.06 8l3.72 3.72a.75.75 0 11-1.06 1.06L.47 8.53a.75.75 0 010-1.06l4.25-4.25zm6.56 0a.75.75 0 10-1.06 1.06L13.94 8l-3.72 3.72a.75.75 0 101.06 1.06l4.25-4.25a.75.75 0 000-1.06l-4.25-4.25z\"></path></svg>\\n            <span data-content=\"Code\">Code</span>\\n              <span title=\"Not available\" class=\"Counter \"></span>\\n</a>\\n\\n      </li>\\n      <li class=\"d-flex\">\\n        <a class=\"js-selected-navigation-item UnderlineNav-item hx_underlinenav-item no-wrap js-responsive-underlinenav-item\" data-tab-item=\"i1issues-tab\" data-hotkey=\"g i\" data-ga-click=\"Repository, Navigation click, Issues tab\" data-selected-links=\"repo_issues repo_labels repo_milestones /paletinaveena/Gmail-Registration/issues\" href=\"/paletinaveena/Gmail-Registration/issues\">\\n              <svg class=\"octicon octicon-issue-opened UnderlineNav-octicon d-none d-sm-inline\" height=\"16\" viewBox=\"0 0 16 16\" version=\"1.1\" width=\"16\" aria-hidden=\"true\"><path fill-rule=\"evenodd\" d=\"M8 1.5a6.5 6.5 0 100 13 6.5 6.5 0 000-13zM0 8a8 8 0 1116 0A8 8 0 010 8zm9 3a1 1 0 11-2 0 1 1 0 012 0zm-.25-6.25a.75.75 0 00-1.5 0v3.5a.75.75 0 001.5 0v-3.5z\"></path></svg>\\n            <span data-content=\"Issues\">Issues</span>\\n              <span title=\"0\" hidden=\"hidden\" class=\"Counter \">0</span>\\n</a>\\n\\n      </li>\\n      <li class=\"d-flex\">\\n        <a class=\"js-selected-navigation-item UnderlineNav-item hx_underlinenav-item no-wrap js-responsive-underlinenav-item\" data-tab-item=\"i2pull-requests-tab\" data-hotkey=\"g p\" data-ga-click=\"Repository, Navigation click, Pull requests tab\" data-selected-links=\"repo_pulls checks /paletinaveena/Gmail-Registration/pulls\" href=\"/paletinaveena/Gmail-Registration/pulls\">\\n              <svg class=\"octicon octicon-git-pull-request UnderlineNav-octicon d-none d-sm-inline\" height=\"16\" viewBox=\"0 0 16 16\" version=\"1.1\" width=\"16\" aria-hidden=\"true\"><path fill-rule=\"evenodd\" d=\"M7.177 3.073L9.573.677A.25.25 0 0110 .854v4.792a.25.25 0 01-.427.177L7.177 3.427a.25.25 0 010-.354zM3.75 2.5a.75.75 0 100 1.5.75.75 0 000-1.5zm-2.25.75a2.25 2.25 0 113 2.122v5.256a2.251 2.251 0 11-1.5 0V5.372A2.25 2.25 0 011.5 3.25zM11 2.5h-1V4h1a1 1 0 011 1v5.628a2.251 2.251 0 101.5 0V5A2.5 2.5 0 0011 2.5zm1 10.25a.75.75 0 111.5 0 .75.75 0 01-1.5 0zM3.75 12a.75.75 0 100 1.5.75.75 0 000-1.5z\"></path></svg>\\n            <span data-content=\"Pull requests\">Pull requests</span>\\n              <span title=\"0\" hidden=\"hidden\" class=\"Counter \">0</span>\\n</a>\\n\\n      </li>\\n      <li class=\"d-flex\">\\n        <a class=\"js-selected-navigation-item UnderlineNav-item hx_underlinenav-item no-wrap js-responsive-underlinenav-item\" data-tab-item=\"i3actions-tab\" data-hotkey=\"g a\" data-ga-click=\"Repository, Navigation click, Actions tab\" data-selected-links=\"repo_actions /paletinaveena/Gmail-Registration/actions\" href=\"/paletinaveena/Gmail-Registration/actions\">\\n              <svg class=\"octicon octicon-play UnderlineNav-octicon d-none d-sm-inline\" height=\"16\" viewBox=\"0 0 16 16\" version=\"1.1\" width=\"16\" aria-hidden=\"true\"><path fill-rule=\"evenodd\" d=\"M1.5 8a6.5 6.5 0 1113 0 6.5 6.5 0 01-13 0zM8 0a8 8 0 100 16A8 8 0 008 0zM6.379 5.227A.25.25 0 006 5.442v5.117a.25.25 0 00.379.214l4.264-2.559a.25.25 0 000-.428L6.379 5.227z\"></path></svg>\\n            <span data-content=\"Actions\">Actions</span>\\n              <span title=\"Not available\" class=\"Counter \"></span>\\n</a>\\n\\n      </li>\\n      <li class=\"d-flex\">\\n        <a class=\"js-selected-navigation-item UnderlineNav-item hx_underlinenav-item no-wrap js-responsive-underlinenav-item\" data-tab-item=\"i4projects-tab\" data-hotkey=\"g b\" data-ga-click=\"Repository, Navigation click, Projects tab\" data-selected-links=\"repo_projects new_repo_project repo_project /paletinaveena/Gmail-Registration/projects\" href=\"/paletinaveena/Gmail-Registration/projects\">\\n              <svg class=\"octicon octicon-project UnderlineNav-octicon d-none d-sm-inline\" height=\"16\" viewBox=\"0 0 16 16\" version=\"1.1\" width=\"16\" aria-hidden=\"true\"><path fill-rule=\"evenodd\" d=\"M1.75 0A1.75 1.75 0 000 1.75v12.5C0 15.216.784 16 1.75 16h12.5A1.75 1.75 0 0016 14.25V1.75A1.75 1.75 0 0014.25 0H1.75zM1.5 1.75a.25.25 0 01.25-.25h12.5a.25.25 0 01.25.25v12.5a.25.25 0 01-.25.25H1.75a.25.25 0 01-.25-.25V1.75zM11.75 3a.75.75 0 00-.75.75v7.5a.75.75 0 001.5 0v-7.5a.75.75 0 00-.75-.75zm-8.25.75a.75.75 0 011.5 0v5.5a.75.75 0 01-1.5 0v-5.5zM8 3a.75.75 0 00-.75.75v3.5a.75.75 0 001.5 0v-3.5A.75.75 0 008 3z\"></path></svg>\\n            <span data-content=\"Projects\">Projects</span>\\n              <span title=\"0\" hidden=\"hidden\" class=\"Counter \">0</span>\\n</a>\\n\\n      </li>\\n      <li class=\"d-flex\">\\n        <a class=\"js-selected-navigation-item UnderlineNav-item hx_underlinenav-item no-wrap js-responsive-underlinenav-item\" data-tab-item=\"i5security-tab\" data-hotkey=\"g s\" data-ga-click=\"Repository, Navigation click, Security tab\" data-selected-links=\"security overview alerts policy token_scanning code_scanning /paletinaveena/Gmail-Registration/security\" href=\"/paletinaveena/Gmail-Registration/security\">\\n              <svg class=\"octicon octicon-shield UnderlineNav-octicon d-none d-sm-inline\" height=\"16\" viewBox=\"0 0 16 16\" version=\"1.1\" width=\"16\" aria-hidden=\"true\"><path fill-rule=\"evenodd\" d=\"M7.467.133a1.75 1.75 0 011.066 0l5.25 1.68A1.75 1.75 0 0115 3.48V7c0 1.566-.32 3.182-1.303 4.682-.983 1.498-2.585 2.813-5.032 3.855a1.7 1.7 0 01-1.33 0c-2.447-1.042-4.049-2.357-5.032-3.855C1.32 10.182 1 8.566 1 7V3.48a1.75 1.75 0 011.217-1.667l5.25-1.68zm.61 1.429a.25.25 0 00-.153 0l-5.25 1.68a.25.25 0 00-.174.238V7c0 1.358.275 2.666 1.057 3.86.784 1.194 2.121 2.34 4.366 3.297a.2.2 0 00.154 0c2.245-.956 3.582-2.104 4.366-3.298C13.225 9.666 13.5 8.36 13.5 7V3.48a.25.25 0 00-.174-.237l-5.25-1.68zM9 10.5a1 1 0 11-2 0 1 1 0 012 0zm-.25-5.75a.75.75 0 10-1.5 0v3a.75.75 0 001.5 0v-3z\"></path></svg>\\n            <span data-content=\"Security\">Security</span>\\n              <include-fragment src=\"/paletinaveena/Gmail-Registration/security/overall-count\" accept=\"text/fragment+html\"></include-fragment>\\n</a>\\n\\n      </li>\\n      <li class=\"d-flex\">\\n        <a class=\"js-selected-navigation-item UnderlineNav-item hx_underlinenav-item no-wrap js-responsive-underlinenav-item\" data-tab-item=\"i6insights-tab\" data-ga-click=\"Repository, Navigation click, Insights tab\" data-selected-links=\"repo_graphs repo_contributors dependency_graph dependabot_updates pulse people /paletinaveena/Gmail-Registration/pulse\" href=\"/paletinaveena/Gmail-Registration/pulse\">\\n              <svg class=\"octicon octicon-graph UnderlineNav-octicon d-none d-sm-inline\" height=\"16\" viewBox=\"0 0 16 16\" version=\"1.1\" width=\"16\" aria-hidden=\"true\"><path fill-rule=\"evenodd\" d=\"M1.5 1.75a.75.75 0 00-1.5 0v12.5c0 .414.336.75.75.75h14.5a.75.75 0 000-1.5H1.5V1.75zm14.28 2.53a.75.75 0 00-1.06-1.06L10 7.94 7.53 5.47a.75.75 0 00-1.06 0L3.22 8.72a.75.75 0 001.06 1.06L7 7.06l2.47 2.47a.75.75 0 001.06 0l5.25-5.25z\"></path></svg>\\n            <span data-content=\"Insights\">Insights</span>\\n              <span title=\"Not available\" class=\"Counter \"></span>\\n</a>\\n\\n      </li>\\n\\n</ul>        <div class=\"position-absolute right-0 pr-3 pr-md-4 pr-lg-5 js-responsive-underlinenav-overflow\" style=\"visibility:hidden;\">\\n      <details class=\"details-overlay details-reset position-relative\">\\n  <summary role=\"button\">\\n    <div class=\"UnderlineNav-item mr-0 border-0\">\\n            <svg class=\"octicon octicon-kebab-horizontal\" viewBox=\"0 0 16 16\" version=\"1.1\" width=\"16\" height=\"16\" aria-hidden=\"true\"><path d=\"M8 9a1.5 1.5 0 100-3 1.5 1.5 0 000 3zM1.5 9a1.5 1.5 0 100-3 1.5 1.5 0 000 3zm13 0a1.5 1.5 0 100-3 1.5 1.5 0 000 3z\"></path></svg>\\n            <span class=\"sr-only\">More</span>\\n          </div>\\n</summary>  <div>\\n    <details-menu role=\"menu\" class=\"dropdown-menu dropdown-menu-sw \">\\n  \\n            <ul>\\n                <li data-menu-item=\"i0code-tab\" hidden>\\n                  <a role=\"menuitem\" class=\"js-selected-navigation-item dropdown-item\" data-selected-links=\" /paletinaveena/Gmail-Registration\" href=\"/paletinaveena/Gmail-Registration\">\\n                    Code\\n</a>                </li>\\n                <li data-menu-item=\"i1issues-tab\" hidden>\\n                  <a role=\"menuitem\" class=\"js-selected-navigation-item dropdown-item\" data-selected-links=\" /paletinaveena/Gmail-Registration/issues\" href=\"/paletinaveena/Gmail-Registration/issues\">\\n                    Issues\\n</a>                </li>\\n                <li data-menu-item=\"i2pull-requests-tab\" hidden>\\n                  <a role=\"menuitem\" class=\"js-selected-navigation-item dropdown-item\" data-selected-links=\" /paletinaveena/Gmail-Registration/pulls\" href=\"/paletinaveena/Gmail-Registration/pulls\">\\n                    Pull requests\\n</a>                </li>\\n                <li data-menu-item=\"i3actions-tab\" hidden>\\n                  <a role=\"menuitem\" class=\"js-selected-navigation-item dropdown-item\" data-selected-links=\" /paletinaveena/Gmail-Registration/actions\" href=\"/paletinaveena/Gmail-Registration/actions\">\\n                    Actions\\n</a>                </li>\\n                <li data-menu-item=\"i4projects-tab\" hidden>\\n                  <a role=\"menuitem\" class=\"js-selected-navigation-item dropdown-item\" data-selected-links=\" /paletinaveena/Gmail-Registration/projects\" href=\"/paletinaveena/Gmail-Registration/projects\">\\n                    Projects\\n</a>                </li>\\n                <li data-menu-item=\"i5security-tab\" hidden>\\n                  <a role=\"menuitem\" class=\"js-selected-navigation-item dropdown-item\" data-selected-links=\" /paletinaveena/Gmail-Registration/security\" href=\"/paletinaveena/Gmail-Registration/security\">\\n                    Security\\n</a>                </li>\\n                <li data-menu-item=\"i6insights-tab\" hidden>\\n                  <a role=\"menuitem\" class=\"js-selected-navigation-item dropdown-item\" data-selected-links=\" /paletinaveena/Gmail-Registration/pulse\" href=\"/paletinaveena/Gmail-Registration/pulse\">\\n                    Insights\\n</a>                </li>\\n            </ul>\\n\\n</details-menu>\\n</div></details>    </div>\\n\\n</nav>\\n  </div>\\n\\n\\n<div class=\"container-xl clearfix new-discussion-timeline px-3 px-md-4 px-lg-5\">\\n  <div class=\"repository-content \" >\\n\\n    \\n      \\n  \\n\\n\\n    <a class=\"d-none js-permalink-shortcut\" data-hotkey=\"y\" href=\"/paletinaveena/Gmail-Registration/blob/5ec5773067fd1a58b93b91f2fe9c6e8ab1c7d4c0/mail-data.csv\">Permalink</a>\\n\\n    <!-- blob contrib key: blob_contributors:v22:f400161dae8a9b101bc3ae5cbbc530f78e59e0d4b69a79a3aa383116753eabfe -->\\n\\n    <div class=\"d-flex flex-items-start flex-shrink-0 pb-3 flex-wrap flex-md-nowrap flex-justify-between flex-md-justify-start\">\\n      \\n<div class=\"position-relative\">\\n  <details class=\"details-reset details-overlay mr-0 mb-0 \" id=\"branch-select-menu\">\\n    <summary class=\"btn css-truncate\"\\n            data-hotkey=\"w\"\\n            title=\"Switch branches or tags\">\\n      <svg class=\"octicon octicon-git-branch text-gray\" height=\"16\" viewBox=\"0 0 16 16\" version=\"1.1\" width=\"16\" aria-hidden=\"true\"><path fill-rule=\"evenodd\" d=\"M11.75 2.5a.75.75 0 100 1.5.75.75 0 000-1.5zm-2.25.75a2.25 2.25 0 113 2.122V6A2.5 2.5 0 0110 8.5H6a1 1 0 00-1 1v1.128a2.251 2.251 0 11-1.5 0V5.372a2.25 2.25 0 111.5 0v1.836A2.492 2.492 0 016 7h4a1 1 0 001-1v-.628A2.25 2.25 0 019.5 3.25zM4.25 12a.75.75 0 100 1.5.75.75 0 000-1.5zM3.5 3.25a.75.75 0 111.5 0 .75.75 0 01-1.5 0z\"></path></svg>\\n      <span class=\"css-truncate-target\" data-menu-button>main</span>\\n      <span class=\"dropdown-caret\"></span>\\n    </summary>\\n\\n    <details-menu class=\"SelectMenu SelectMenu--hasFilter\" src=\"/paletinaveena/Gmail-Registration/refs/main/mail-data.csv?source_action=show&amp;source_controller=blob\" preload>\\n      <div class=\"SelectMenu-modal\">\\n        <include-fragment class=\"SelectMenu-loading\" aria-label=\"Menu is loading\">\\n          <svg class=\"octicon octicon-octoface anim-pulse\" height=\"32\" viewBox=\"0 0 24 24\" version=\"1.1\" width=\"32\" aria-hidden=\"true\"><path d=\"M7.75 11c-.69 0-1.25.56-1.25 1.25v1.5a1.25 1.25 0 102.5 0v-1.5C9 11.56 8.44 11 7.75 11zm1.27 4.5a.469.469 0 01.48-.5h5a.47.47 0 01.48.5c-.116 1.316-.759 2.5-2.98 2.5s-2.864-1.184-2.98-2.5zm7.23-4.5c-.69 0-1.25.56-1.25 1.25v1.5a1.25 1.25 0 102.5 0v-1.5c0-.69-.56-1.25-1.25-1.25z\"></path><path fill-rule=\"evenodd\" d=\"M21.255 3.82a1.725 1.725 0 00-2.141-1.195c-.557.16-1.406.44-2.264.866-.78.386-1.647.93-2.293 1.677A18.442 18.442 0 0012 5c-.93 0-1.784.059-2.569.17-.645-.74-1.505-1.28-2.28-1.664a13.876 13.876 0 00-2.265-.866 1.725 1.725 0 00-2.141 1.196 23.645 23.645 0 00-.69 3.292c-.125.97-.191 2.07-.066 3.112C1.254 11.882 1 13.734 1 15.527 1 19.915 3.13 23 12 23c8.87 0 11-3.053 11-7.473 0-1.794-.255-3.647-.99-5.29.127-1.046.06-2.15-.066-3.125a23.652 23.652 0 00-.689-3.292zM20.5 14c.5 3.5-1.5 6.5-8.5 6.5s-9-3-8.5-6.5c.583-4 3-6 8.5-6s7.928 2 8.5 6z\"></path></svg>\\n        </include-fragment>\\n      </div>\\n    </details-menu>\\n  </details>\\n\\n</div>\\n\\n      <h2 id=\"blob-path\" class=\"breadcrumb flex-auto min-width-0 text-normal mx-0 mx-md-3 width-full width-md-auto flex-order-1 flex-md-order-none mt-3 mt-md-0\">\\n        <span class=\"js-repo-root text-bold\"><span class=\"js-path-segment d-inline-block wb-break-all\"><a data-pjax=\"true\" href=\"/paletinaveena/Gmail-Registration\"><span>Gmail-Registration</span></a></span></span><span class=\"separator\">/</span><strong class=\"final-path\">mail-data.csv</strong>\\n      </h2>\\n      <a href=\"/paletinaveena/Gmail-Registration/find/main\"\\n            class=\"js-pjax-capture-input btn mr-2 d-none d-md-block\"\\n            data-pjax\\n            data-hotkey=\"t\">\\n        Go to file\\n      </a>\\n\\n      <details id=\"blob-more-options-details\" class=\"details-overlay details-reset position-relative\">\\n  <summary role=\"button\" type=\"button\" class=\"btn \">\\n    <svg aria-label=\"More options\" class=\"octicon octicon-kebab-horizontal\" height=\"16\" viewBox=\"0 0 16 16\" version=\"1.1\" width=\"16\" role=\"img\"><path d=\"M8 9a1.5 1.5 0 100-3 1.5 1.5 0 000 3zM1.5 9a1.5 1.5 0 100-3 1.5 1.5 0 000 3zm13 0a1.5 1.5 0 100-3 1.5 1.5 0 000 3z\"></path></svg>\\n</summary>  <div>\\n    <ul class=\"dropdown-menu dropdown-menu-sw\">\\n            <li class=\"d-block d-md-none\">\\n              <a class=\"dropdown-item d-flex flex-items-baseline\" data-hydro-click=\"{&quot;event_type&quot;:&quot;repository.click&quot;,&quot;payload&quot;:{&quot;target&quot;:&quot;FIND_FILE_BUTTON&quot;,&quot;repository_id&quot;:323672651,&quot;originating_url&quot;:&quot;https://github.com/paletinaveena/Gmail-Registration/blob/main/mail-data.csv&quot;,&quot;user_id&quot;:null}}\" data-hydro-click-hmac=\"f2cba88c1f1bb4bbe6c8277a0b38f9b041d7eb4968bcf6cc9e1324a916cb477d\" data-ga-click=\"Repository, find file, location:repo overview\" data-hotkey=\"t\" data-pjax=\"true\" href=\"/paletinaveena/Gmail-Registration/find/main\">\\n                <span class=\"flex-auto\">Go to file</span>\\n                <span class=\"text-small text-gray\" aria-hidden=\"true\">T</span>\\n</a>            </li>\\n            <li data-toggle-for=\"blob-more-options-details\">\\n              <button type=\"button\" data-toggle-for=\"jumpto-line-details-dialog\" class=\"btn-link dropdown-item\">\\n                <span class=\"d-flex flex-items-baseline\">\\n                  <span class=\"flex-auto\">Go to line</span>\\n                  <span class=\"text-small text-gray\" aria-hidden=\"true\">L</span>\\n                </span>\\n              </button>\\n            </li>\\n            <li class=\"dropdown-divider\" role=\"none\"></li>\\n            <li>\\n              <clipboard-copy value=\"mail-data.csv\" class=\"dropdown-item cursor-pointer\" data-toggle-for=\"blob-more-options-details\">\\n                Copy path\\n              </clipboard-copy>\\n            </li>\\n          </ul>\\n</div></details>    </div>\\n\\n\\n\\n    <div class=\"Box d-flex flex-column flex-shrink-0 mb-3\">\\n      \\n  <div class=\"Box-header Box-header--blue Details js-details-container\">\\n      <div class=\"d-flex flex-items-center\">\\n        <span class=\"flex-shrink-0 ml-n1 mr-n1 mt-n1 mb-n1\">\\n          <a rel=\"author\" data-skip-pjax=\"true\" data-hovercard-type=\"user\" data-hovercard-url=\"/users/paletinaveena/hovercard\" data-octo-click=\"hovercard-link-click\" data-octo-dimensions=\"link_type:self\" href=\"/paletinaveena\"><img class=\"avatar avatar-user\" src=\"https://avatars2.githubusercontent.com/u/76488426?s=48&amp;v=4\" width=\"24\" height=\"24\" alt=\"@paletinaveena\" /></a>\\n        </span>\\n        <div class=\"flex-1 d-flex flex-items-center ml-3 min-width-0\">\\n          <div class=\"css-truncate css-truncate-overflow\">\\n            <a class=\"text-bold link-gray-dark\" rel=\"author\" data-hovercard-type=\"user\" data-hovercard-url=\"/users/paletinaveena/hovercard\" data-octo-click=\"hovercard-link-click\" data-octo-dimensions=\"link_type:self\" href=\"/paletinaveena\">paletinaveena</a>\\n\\n              <span>\\n                <a data-pjax=\"true\" title=\"Rename bank-data.csv to mail-data.csv\" class=\"link-gray\" href=\"/paletinaveena/Gmail-Registration/commit/5ec5773067fd1a58b93b91f2fe9c6e8ab1c7d4c0\">Rename bank-data.csv to mail-data.csv</a>\\n              </span>\\n          </div>\\n\\n\\n          <span class=\"ml-2\">\\n            <include-fragment accept=\"text/fragment+html\" src=\"/paletinaveena/Gmail-Registration/commit/5ec5773067fd1a58b93b91f2fe9c6e8ab1c7d4c0/rollup?direction=e\" class=\"d-inline\"></include-fragment>\\n          </span>\\n        </div>\\n        <div class=\"ml-3 d-flex flex-shrink-0 flex-items-center flex-justify-end text-gray no-wrap\">\\n          <span class=\"d-none d-md-inline\">\\n            <span>Latest commit</span>\\n            <a class=\"text-small text-mono link-gray\" href=\"/paletinaveena/Gmail-Registration/commit/5ec5773067fd1a58b93b91f2fe9c6e8ab1c7d4c0\" data-pjax>5ec5773</a>\\n            <span itemprop=\"dateModified\"><relative-time datetime=\"2020-12-23T05:00:32Z\" class=\"no-wrap\">Dec 23, 2020</relative-time></span>\\n          </span>\\n\\n          <a data-pjax href=\"/paletinaveena/Gmail-Registration/commits/main/mail-data.csv\" class=\"ml-3 no-wrap link-gray-dark no-underline\">\\n            <svg class=\"octicon octicon-history text-gray\" height=\"16\" viewBox=\"0 0 16 16\" version=\"1.1\" width=\"16\" aria-hidden=\"true\"><path fill-rule=\"evenodd\" d=\"M1.643 3.143L.427 1.927A.25.25 0 000 2.104V5.75c0 .138.112.25.25.25h3.646a.25.25 0 00.177-.427L2.715 4.215a6.5 6.5 0 11-1.18 4.458.75.75 0 10-1.493.154 8.001 8.001 0 101.6-5.684zM7.75 4a.75.75 0 01.75.75v2.992l2.028.812a.75.75 0 01-.557 1.392l-2.5-1A.75.75 0 017 8.25v-3.5A.75.75 0 017.75 4z\"></path></svg>\\n            <span class=\"d-none d-sm-inline\">\\n              <strong>History</strong>\\n            </span>\\n          </a>\\n        </div>\\n      </div>\\n\\n  </div>\\n\\n  <div class=\"Box-body d-flex flex-items-center flex-auto border-bottom-0 flex-wrap\" >\\n    <details class=\"details-reset details-overlay details-overlay-dark lh-default text-gray-dark float-left mr-3\" id=\"blob_contributors_box\">\\n      <summary class=\"link-gray-dark\">\\n        <svg class=\"octicon octicon-people text-gray\" height=\"16\" viewBox=\"0 0 16 16\" version=\"1.1\" width=\"16\" aria-hidden=\"true\"><path fill-rule=\"evenodd\" d=\"M5.5 3.5a2 2 0 100 4 2 2 0 000-4zM2 5.5a3.5 3.5 0 115.898 2.549 5.507 5.507 0 013.034 4.084.75.75 0 11-1.482.235 4.001 4.001 0 00-7.9 0 .75.75 0 01-1.482-.236A5.507 5.507 0 013.102 8.05 3.49 3.49 0 012 5.5zM11 4a.75.75 0 100 1.5 1.5 1.5 0 01.666 2.844.75.75 0 00-.416.672v.352a.75.75 0 00.574.73c1.2.289 2.162 1.2 2.522 2.372a.75.75 0 101.434-.44 5.01 5.01 0 00-2.56-3.012A3 3 0 0011 4z\"></path></svg>\\n        <strong>1</strong>\\n        \\n        contributor\\n      </summary>\\n      <details-dialog\\n        class=\"Box Box--overlay d-flex flex-column anim-fade-in fast\"\\n        aria-label=\"Users who have contributed to this file\"\\n        src=\"/paletinaveena/Gmail-Registration/contributors-list/main/mail-data.csv\" preload>\\n        <div class=\"Box-header\">\\n          <button class=\"Box-btn-octicon btn-octicon float-right\" type=\"button\" aria-label=\"Close dialog\" data-close-dialog>\\n            <svg class=\"octicon octicon-x\" viewBox=\"0 0 16 16\" version=\"1.1\" width=\"16\" height=\"16\" aria-hidden=\"true\"><path fill-rule=\"evenodd\" d=\"M3.72 3.72a.75.75 0 011.06 0L8 6.94l3.22-3.22a.75.75 0 111.06 1.06L9.06 8l3.22 3.22a.75.75 0 11-1.06 1.06L8 9.06l-3.22 3.22a.75.75 0 01-1.06-1.06L6.94 8 3.72 4.78a.75.75 0 010-1.06z\"></path></svg>\\n          </button>\\n          <h3 class=\"Box-title\">\\n            Users who have contributed to this file\\n          </h3>\\n        </div>\\n        <include-fragment>\\n          <svg viewBox=\"0 0 16 16\" fill=\"none\" style=\"box-sizing: content-box; color: var(--color-icon-primary);\" class=\"my-3 mx-auto d-block\" width=\"32\" height=\"32\">\\n  <circle cx=\"8\" cy=\"8\" r=\"7\" stroke=\"currentColor\" stroke-opacity=\"0.25\" stroke-width=\"2\" vector-effect=\"non-scaling-stroke\" />\\n  <path d=\"M15 8a7.002 7.002 0 00-7-7\" stroke=\"currentColor\" stroke-width=\"2\" stroke-linecap=\"round\" vector-effect=\"non-scaling-stroke\">\\n    <animateTransform attributeName=\"transform\" type=\"rotate\" from=\"0 8 8\" to=\"360 8 8\" dur=\"1s\" repeatCount=\"indefinite\" />\\n  </path>\\n</svg>\\n        </include-fragment>\\n      </details-dialog>\\n    </details>\\n  </div>\\n    </div>\\n\\n\\n\\n\\n\\n\\n    <div class=\"Box mt-3 position-relative\\n      \">\\n      \\n<div class=\"Box-header py-2 d-flex flex-column flex-shrink-0 flex-md-row flex-md-items-center\">\\n  <div class=\"text-mono f6 flex-auto pr-3 flex-order-2 flex-md-order-1 mt-2 mt-md-0\">\\n\\n      9 lines (9 sloc)\\n      <span class=\"file-info-divider\"></span>\\n    548 Bytes\\n  </div>\\n\\n  <div class=\"d-flex py-1 py-md-0 flex-auto flex-order-1 flex-md-order-2 flex-sm-grow-0 flex-justify-between\">\\n\\n    <div class=\"BtnGroup\">\\n      <a href=\"/paletinaveena/Gmail-Registration/raw/main/mail-data.csv\" id=\"raw-url\" role=\"button\" class=\"btn btn-sm BtnGroup-item \">Raw</a>\\n        <a href=\"/paletinaveena/Gmail-Registration/blame/main/mail-data.csv\" data-hotkey=\"b\" role=\"button\" class=\"btn js-update-url-with-hash btn-sm BtnGroup-item \">Blame</a>\\n    </div>\\n\\n    <div>\\n          <a class=\"btn-octicon tooltipped tooltipped-nw js-remove-unless-platform\"\\n             data-platforms=\"windows,mac\"\\n             href=\"https://desktop.github.com\"\\n             aria-label=\"Open this file in GitHub Desktop\"\\n             data-ga-click=\"Repository, open with desktop\">\\n              <svg class=\"octicon octicon-device-desktop\" viewBox=\"0 0 16 16\" version=\"1.1\" width=\"16\" height=\"16\" aria-hidden=\"true\"><path fill-rule=\"evenodd\" d=\"M1.75 2.5h12.5a.25.25 0 01.25.25v7.5a.25.25 0 01-.25.25H1.75a.25.25 0 01-.25-.25v-7.5a.25.25 0 01.25-.25zM14.25 1H1.75A1.75 1.75 0 000 2.75v7.5C0 11.216.784 12 1.75 12h3.727c-.1 1.041-.52 1.872-1.292 2.757A.75.75 0 004.75 16h6.5a.75.75 0 00.565-1.243c-.772-.885-1.193-1.716-1.292-2.757h3.727A1.75 1.75 0 0016 10.25v-7.5A1.75 1.75 0 0014.25 1zM9.018 12H6.982a5.72 5.72 0 01-.765 2.5h3.566a5.72 5.72 0 01-.765-2.5z\"></path></svg>\\n          </a>\\n\\n          <a href=\"/login?return_to=%2Fpaletinaveena%2FGmail-Registration%2Fblob%2Fmain%2Fmail-data.csv\" class=\"btn-octicon disabled tooltipped tooltipped-nw\"\\n            aria-label=\"You must be signed in to make or propose changes\">\\n            <svg class=\"octicon octicon-pencil\" height=\"16\" viewBox=\"0 0 16 16\" version=\"1.1\" width=\"16\" aria-hidden=\"true\"><path fill-rule=\"evenodd\" d=\"M11.013 1.427a1.75 1.75 0 012.474 0l1.086 1.086a1.75 1.75 0 010 2.474l-8.61 8.61c-.21.21-.47.364-.756.445l-3.251.93a.75.75 0 01-.927-.928l.929-3.25a1.75 1.75 0 01.445-.758l8.61-8.61zm1.414 1.06a.25.25 0 00-.354 0L10.811 3.75l1.439 1.44 1.263-1.263a.25.25 0 000-.354l-1.086-1.086zM11.189 6.25L9.75 4.81l-6.286 6.287a.25.25 0 00-.064.108l-.558 1.953 1.953-.558a.249.249 0 00.108-.064l6.286-6.286z\"></path></svg>\\n          </a>\\n          <a href=\"/login?return_to=%2Fpaletinaveena%2FGmail-Registration%2Fblob%2Fmain%2Fmail-data.csv\" class=\"btn-octicon btn-octicon-danger disabled tooltipped tooltipped-nw\"\\n            aria-label=\"You must be signed in to make or propose changes\">\\n            <svg class=\"octicon octicon-trashcan\" viewBox=\"0 0 16 16\" version=\"1.1\" width=\"16\" height=\"16\" aria-hidden=\"true\"><path fill-rule=\"evenodd\" d=\"M6.5 1.75a.25.25 0 01.25-.25h2.5a.25.25 0 01.25.25V3h-3V1.75zm4.5 0V3h2.25a.75.75 0 010 1.5H2.75a.75.75 0 010-1.5H5V1.75C5 .784 5.784 0 6.75 0h2.5C10.216 0 11 .784 11 1.75zM4.496 6.675a.75.75 0 10-1.492.15l.66 6.6A1.75 1.75 0 005.405 15h5.19c.9 0 1.652-.681 1.741-1.576l.66-6.6a.75.75 0 00-1.492-.149l-.66 6.6a.25.25 0 01-.249.225h-5.19a.25.25 0 01-.249-.225l-.66-6.6z\"></path></svg>\\n          </a>\\n    </div>\\n  </div>\\n</div>\\n\\n      \\n\\n  <div itemprop=\"text\" class=\"Box-body p-0 blob-wrapper data type-csv  gist-border-0\">\\n      <div class=\"blob-interaction-bar\">\\n  <svg class=\"octicon octicon-search\" viewBox=\"0 0 16 16\" version=\"1.1\" width=\"16\" height=\"16\" aria-hidden=\"true\"><path fill-rule=\"evenodd\" d=\"M11.5 7a4.499 4.499 0 11-8.998 0A4.499 4.499 0 0111.5 7zm-.82 4.74a6 6 0 111.06-1.06l3.04 3.04a.75.75 0 11-1.06 1.06l-3.04-3.04z\"></path></svg>\\n  <input type=\"text\" name=\"filter\" class=\"form-control js-csv-filter-field blob-filter\" autocapitalize=\"off\"\\n         placeholder=\"Search this file\\xe2\\x80\\xa6\" aria-label=\"Search this file\\xe2\\x80\\xa6\">\\n</div>\\n\\n  <div class=\"markdown-body\">\\n    <table class=\"js-csv-data csv-data js-file-line-container\">\\n      <thead>\\n        <tr id=\"LC1\" class=\"js-file-line\">\\n          <td id=\"L1\" class=\"blob-num js-line-number\" data-line-number=\"1\"></td>\\n            <th></th>\\n            <th>username</th>\\n            <th>password</th>\\n            <th>phone_no</th>\\n            <th>gender</th>\\n            <th>fname</th>\\n            <th>lname</th>\\n            <th>dob</th>\\n        </tr>\\n      </thead>\\n      <tbody>\\n          <tr id=\"LC2\" class=\"js-file-line\">\\n            <td id=\"L2\" class=\"blob-num js-line-number\" data-line-number=\"2\"></td>\\n              <td>1</td>\\n              <td>Sowmya144</td>\\n              <td>passcode</td>\\n              <td>1234567890</td>\\n              <td>Female</td>\\n              <td>Sowmya</td>\\n              <td>Sri</td>\\n              <td>27-Jul-2003</td>\\n          </tr>\\n          <tr id=\"LC3\" class=\"js-file-line\">\\n            <td id=\"L3\" class=\"blob-num js-line-number\" data-line-number=\"3\"></td>\\n              <td>2</td>\\n              <td>Surekha555</td>\\n              <td>gmailpass</td>\\n              <td>9876543210</td>\\n              <td>Female</td>\\n              <td>Surekha</td>\\n              <td>Shukla</td>\\n              <td>12-Dec-1975</td>\\n          </tr>\\n          <tr id=\"LC4\" class=\"js-file-line\">\\n            <td id=\"L4\" class=\"blob-num js-line-number\" data-line-number=\"4\"></td>\\n              <td>3</td>\\n              <td>Suresh764</td>\\n              <td>pvsuresh1</td>\\n              <td>3456789876</td>\\n              <td>Male</td>\\n              <td>Suresh</td>\\n              <td>Paleti</td>\\n              <td>23-Dec-1970</td>\\n          </tr>\\n          <tr id=\"LC5\" class=\"js-file-line\">\\n            <td id=\"L5\" class=\"blob-num js-line-number\" data-line-number=\"5\"></td>\\n              <td>4</td>\\n              <td>Koushika</td>\\n              <td>codemail</td>\\n              <td>2345678987</td>\\n              <td>Female</td>\\n              <td>Koushika</td>\\n              <td>Retu</td>\\n              <td>13-May-2001</td>\\n          </tr>\\n          <tr id=\"LC6\" class=\"js-file-line\">\\n            <td id=\"L6\" class=\"blob-num js-line-number\" data-line-number=\"6\"></td>\\n              <td>5</td>\\n              <td>Krish24</td>\\n              <td>Apassis</td>\\n              <td>9876543212</td>\\n              <td>Male</td>\\n              <td>Krishna</td>\\n              <td>Sai</td>\\n              <td>23-Jun-1997</td>\\n          </tr>\\n          <tr id=\"LC7\" class=\"js-file-line\">\\n            <td id=\"L7\" class=\"blob-num js-line-number\" data-line-number=\"7\"></td>\\n              <td>6</td>\\n              <td>Sumita82</td>\\n              <td>passmail</td>\\n              <td>6263332517</td>\\n              <td>Female</td>\\n              <td>Sumita </td>\\n              <td>Sri</td>\\n              <td>20-Apr-1997</td>\\n          </tr>\\n          <tr id=\"LC8\" class=\"js-file-line\">\\n            <td id=\"L8\" class=\"blob-num js-line-number\" data-line-number=\"8\"></td>\\n              <td>7</td>\\n              <td>Nikitha</td>\\n              <td>Nobitha</td>\\n              <td>1234567890</td>\\n              <td>Female</td>\\n              <td>Nikitha</td>\\n              <td>sai</td>\\n              <td>23-May-1987</td>\\n          </tr>\\n          <tr id=\"LC9\" class=\"js-file-line\">\\n            <td id=\"L9\" class=\"blob-num js-line-number\" data-line-number=\"9\"></td>\\n              <td>8</td>\\n              <td>Satyam</td>\\n              <td>codepass</td>\\n              <td>9876543210</td>\\n              <td>Male</td>\\n              <td>Satyam</td>\\n              <td>Kumar</td>\\n              <td>10-Mar-1996</td>\\n          </tr>\\n      </tbody>\\n    </table>\\n  </div>\\n\\n  </div>\\n\\n    </div>\\n\\n  \\n\\n\\n  <details class=\"details-reset details-overlay details-overlay-dark\" id=\"jumpto-line-details-dialog\">\\n    <summary data-hotkey=\"l\" aria-label=\"Jump to line\"></summary>\\n    <details-dialog class=\"Box Box--overlay d-flex flex-column anim-fade-in fast linejump\" aria-label=\"Jump to line\">\\n      <!-- \\'\"` --><!-- </textarea></xmp> --></option></form><form class=\"js-jump-to-line-form Box-body d-flex\" action=\"\" accept-charset=\"UTF-8\" method=\"get\">\\n        <input class=\"form-control flex-auto mr-3 linejump-input js-jump-to-line-field\" type=\"text\" placeholder=\"Jump to line&hellip;\" aria-label=\"Jump to line\" autofocus>\\n        <button type=\"submit\" class=\"btn\" data-close-dialog>Go</button>\\n</form>    </details-dialog>\\n  </details>\\n\\n\\n\\n\\n  </div>\\n</div>\\n\\n    </main>\\n  </div>\\n\\n  </div>\\n\\n          \\n<div class=\"footer container-xl width-full p-responsive\" role=\"contentinfo\">\\n  <div class=\"position-relative d-flex flex-row-reverse flex-lg-row flex-wrap flex-lg-nowrap flex-justify-center flex-lg-justify-between pt-6 pb-2 mt-6 f6 text-gray border-top border-gray-light \">\\n    <ul class=\"list-style-none d-flex flex-wrap col-12 col-lg-5 flex-justify-center flex-lg-justify-between mb-2 mb-lg-0\">\\n      <li class=\"mr-3 mr-lg-0\">&copy; 2020 GitHub, Inc.</li>\\n        <li class=\"mr-3 mr-lg-0\"><a data-ga-click=\"Footer, go to terms, text:terms\" href=\"https://github.com/site/terms\">Terms</a></li>\\n        <li class=\"mr-3 mr-lg-0\"><a data-ga-click=\"Footer, go to privacy, text:privacy\" href=\"https://github.com/site/privacy\">Privacy</a></li>\\n        <li class=\"mr-3 mr-lg-0\"><a data-ga-click=\"Footer, go to security, text:security\" href=\"https://github.com/security\">Security</a></li>\\n        <li class=\"mr-3 mr-lg-0\"><a href=\"https://githubstatus.com/\" data-ga-click=\"Footer, go to status, text:status\">Status</a></li>\\n        <li><a data-ga-click=\"Footer, go to help, text:help\" href=\"https://docs.github.com\">Help</a></li>\\n    </ul>\\n\\n    <a aria-label=\"Homepage\" title=\"GitHub\" class=\"footer-octicon d-none d-lg-block mx-lg-4\" href=\"https://github.com\">\\n      <svg height=\"24\" class=\"octicon octicon-mark-github\" viewBox=\"0 0 16 16\" version=\"1.1\" width=\"24\" aria-hidden=\"true\"><path fill-rule=\"evenodd\" d=\"M8 0C3.58 0 0 3.58 0 8c0 3.54 2.29 6.53 5.47 7.59.4.07.55-.17.55-.38 0-.19-.01-.82-.01-1.49-2.01.37-2.53-.49-2.69-.94-.09-.23-.48-.94-.82-1.13-.28-.15-.68-.52-.01-.53.63-.01 1.08.58 1.23.82.72 1.21 1.87.87 2.33.66.07-.52.28-.87.51-1.07-1.78-.2-3.64-.89-3.64-3.95 0-.87.31-1.59.82-2.15-.08-.2-.36-1.02.08-2.12 0 0 .67-.21 2.2.82.64-.18 1.32-.27 2-.27.68 0 1.36.09 2 .27 1.53-1.04 2.2-.82 2.2-.82.44 1.1.16 1.92.08 2.12.51.56.82 1.27.82 2.15 0 3.07-1.87 3.75-3.65 3.95.29.25.54.73.54 1.48 0 1.07-.01 1.93-.01 2.2 0 .21.15.46.55.38A8.013 8.013 0 0016 8c0-4.42-3.58-8-8-8z\"></path></svg>\\n</a>\\n    <ul class=\"list-style-none d-flex flex-wrap col-12 col-lg-5 flex-justify-center flex-lg-justify-between mb-2 mb-lg-0\">\\n        <li class=\"mr-3 mr-lg-0\"><a data-ga-click=\"Footer, go to contact, text:contact\" href=\"https://github.com/contact\">Contact GitHub</a></li>\\n        <li class=\"mr-3 mr-lg-0\"><a href=\"https://github.com/pricing\" data-ga-click=\"Footer, go to Pricing, text:Pricing\">Pricing</a></li>\\n      <li class=\"mr-3 mr-lg-0\"><a href=\"https://docs.github.com\" data-ga-click=\"Footer, go to api, text:api\">API</a></li>\\n      <li class=\"mr-3 mr-lg-0\"><a href=\"https://services.github.com\" data-ga-click=\"Footer, go to training, text:training\">Training</a></li>\\n        <li class=\"mr-3 mr-lg-0\"><a href=\"https://github.blog\" data-ga-click=\"Footer, go to blog, text:blog\">Blog</a></li>\\n        <li><a data-ga-click=\"Footer, go to about, text:about\" href=\"https://github.com/about\">About</a></li>\\n    </ul>\\n  </div>\\n  <div class=\"d-flex flex-justify-center pb-6\">\\n    <span class=\"f6 text-gray-light\"></span>\\n  </div>\\n\\n  \\n</div>\\n\\n\\n\\n  <div id=\"ajax-error-message\" class=\"ajax-error-message flash flash-error\">\\n    <svg class=\"octicon octicon-alert\" viewBox=\"0 0 16 16\" version=\"1.1\" width=\"16\" height=\"16\" aria-hidden=\"true\"><path fill-rule=\"evenodd\" d=\"M8.22 1.754a.25.25 0 00-.44 0L1.698 13.132a.25.25 0 00.22.368h12.164a.25.25 0 00.22-.368L8.22 1.754zm-1.763-.707c.659-1.234 2.427-1.234 3.086 0l6.082 11.378A1.75 1.75 0 0114.082 15H1.918a1.75 1.75 0 01-1.543-2.575L6.457 1.047zM9 11a1 1 0 11-2 0 1 1 0 012 0zm-.25-5.25a.75.75 0 00-1.5 0v2.5a.75.75 0 001.5 0v-2.5z\"></path></svg>\\n    <button type=\"button\" class=\"flash-close js-ajax-error-dismiss\" aria-label=\"Dismiss error\">\\n      <svg class=\"octicon octicon-x\" viewBox=\"0 0 16 16\" version=\"1.1\" width=\"16\" height=\"16\" aria-hidden=\"true\"><path fill-rule=\"evenodd\" d=\"M3.72 3.72a.75.75 0 011.06 0L8 6.94l3.22-3.22a.75.75 0 111.06 1.06L9.06 8l3.22 3.22a.75.75 0 11-1.06 1.06L8 9.06l-3.22 3.22a.75.75 0 01-1.06-1.06L6.94 8 3.72 4.78a.75.75 0 010-1.06z\"></path></svg>\\n    </button>\\n    You can\\xe2\\x80\\x99t perform that action at this time.\\n  </div>\\n\\n\\n  <div class=\"js-stale-session-flash flash flash-warn flash-banner\" hidden\\n    >\\n    <svg class=\"octicon octicon-alert\" viewBox=\"0 0 16 16\" version=\"1.1\" width=\"16\" height=\"16\" aria-hidden=\"true\"><path fill-rule=\"evenodd\" d=\"M8.22 1.754a.25.25 0 00-.44 0L1.698 13.132a.25.25 0 00.22.368h12.164a.25.25 0 00.22-.368L8.22 1.754zm-1.763-.707c.659-1.234 2.427-1.234 3.086 0l6.082 11.378A1.75 1.75 0 0114.082 15H1.918a1.75 1.75 0 01-1.543-2.575L6.457 1.047zM9 11a1 1 0 11-2 0 1 1 0 012 0zm-.25-5.25a.75.75 0 00-1.5 0v2.5a.75.75 0 001.5 0v-2.5z\"></path></svg>\\n    <span class=\"js-stale-session-flash-signed-in\" hidden>You signed in with another tab or window. <a href=\"\">Reload</a> to refresh your session.</span>\\n    <span class=\"js-stale-session-flash-signed-out\" hidden>You signed out in another tab or window. <a href=\"\">Reload</a> to refresh your session.</span>\\n  </div>\\n    <template id=\"site-details-dialog\">\\n  <details class=\"details-reset details-overlay details-overlay-dark lh-default text-gray-dark hx_rsm\" open>\\n    <summary role=\"button\" aria-label=\"Close dialog\"></summary>\\n    <details-dialog class=\"Box Box--overlay d-flex flex-column anim-fade-in fast hx_rsm-dialog hx_rsm-modal\">\\n      <button class=\"Box-btn-octicon m-0 btn-octicon position-absolute right-0 top-0\" type=\"button\" aria-label=\"Close dialog\" data-close-dialog>\\n        <svg class=\"octicon octicon-x\" viewBox=\"0 0 16 16\" version=\"1.1\" width=\"16\" height=\"16\" aria-hidden=\"true\"><path fill-rule=\"evenodd\" d=\"M3.72 3.72a.75.75 0 011.06 0L8 6.94l3.22-3.22a.75.75 0 111.06 1.06L9.06 8l3.22 3.22a.75.75 0 11-1.06 1.06L8 9.06l-3.22 3.22a.75.75 0 01-1.06-1.06L6.94 8 3.72 4.78a.75.75 0 010-1.06z\"></path></svg>\\n      </button>\\n      <div class=\"octocat-spinner my-6 js-details-dialog-spinner\"></div>\\n    </details-dialog>\\n  </details>\\n</template>\\n\\n    <div class=\"Popover js-hovercard-content position-absolute\" style=\"display: none; outline: none;\" tabindex=\"0\">\\n  <div class=\"Popover-message Popover-message--bottom-left Popover-message--large Box box-shadow-large\" style=\"width:360px;\">\\n  </div>\\n</div>\\n\\n\\n  </body>\\n</html>\\n\\n'"
      ]
     },
     "execution_count": 48,
     "metadata": {},
     "output_type": "execute_result"
    }
   ],
   "source": [
    "html"
   ]
  },
  {
   "cell_type": "code",
   "execution_count": 50,
   "metadata": {},
   "outputs": [],
   "source": [
    "read = pd.read_html(url)"
   ]
  },
  {
   "cell_type": "code",
   "execution_count": 51,
   "metadata": {},
   "outputs": [
    {
     "data": {
      "text/plain": [
       "[   Unnamed: 0  Unnamed: 1    username   password    phone_no  gender  \\\n",
       " 0         NaN           1   Sowmya144   passcode  1234567890  Female   \n",
       " 1         NaN           2  Surekha555  gmailpass  9876543210  Female   \n",
       " 2         NaN           3   Suresh764  pvsuresh1  3456789876    Male   \n",
       " 3         NaN           4    Koushika   codemail  2345678987  Female   \n",
       " 4         NaN           5     Krish24    Apassis  9876543212    Male   \n",
       " 5         NaN           6    Sumita82   passmail  6263332517  Female   \n",
       " 6         NaN           7     Nikitha    Nobitha  1234567890  Female   \n",
       " 7         NaN           8      Satyam   codepass  9876543210    Male   \n",
       " \n",
       "       fname   lname          dob  \n",
       " 0    Sowmya     Sri  27-Jul-2003  \n",
       " 1   Surekha  Shukla  12-Dec-1975  \n",
       " 2    Suresh  Paleti  23-Dec-1970  \n",
       " 3  Koushika    Retu  13-May-2001  \n",
       " 4   Krishna     Sai  23-Jun-1997  \n",
       " 5    Sumita     Sri  20-Apr-1997  \n",
       " 6   Nikitha     sai  23-May-1987  \n",
       " 7    Satyam   Kumar  10-Mar-1996  ]"
      ]
     },
     "execution_count": 51,
     "metadata": {},
     "output_type": "execute_result"
    }
   ],
   "source": [
    "read"
   ]
  },
  {
   "cell_type": "code",
   "execution_count": null,
   "metadata": {},
   "outputs": [],
   "source": []
  }
 ],
 "metadata": {
  "kernelspec": {
   "display_name": "Python 3",
   "language": "python",
   "name": "python3"
  },
  "language_info": {
   "codemirror_mode": {
    "name": "ipython",
    "version": 3
   },
   "file_extension": ".py",
   "mimetype": "text/x-python",
   "name": "python",
   "nbconvert_exporter": "python",
   "pygments_lexer": "ipython3",
   "version": "3.8.5"
  }
 },
 "nbformat": 4,
 "nbformat_minor": 4
}
